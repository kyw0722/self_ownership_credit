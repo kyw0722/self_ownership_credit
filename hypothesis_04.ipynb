{
 "cells": [
  {
   "cell_type": "markdown",
   "id": "2b6d8f0f",
   "metadata": {},
   "source": [
    "# API를 통해 구해온 데이터들을 하나의 DataFrame으로 만듦"
   ]
  },
  {
   "cell_type": "code",
   "execution_count": 1,
   "id": "17fed896",
   "metadata": {},
   "outputs": [],
   "source": [
    "import pandas as pd\n",
    "import matplotlib as mpl\n",
    "import matplotlib.pyplot as plt\n",
    "import seaborn as sns\n",
    "\n",
    "mpl.rc('font', family='Malgun Gothic')"
   ]
  },
  {
   "cell_type": "code",
   "execution_count": 2,
   "id": "65cef218",
   "metadata": {},
   "outputs": [],
   "source": [
    "# csv파일들을 불러옴\n",
    "finance = pd.read_csv('./data/개인사업자재무정보.csv', index_col = 0)\n",
    "guarantee = pd.read_csv('./data/개인사업자보증잔액정보.csv', index_col = 0)\n",
    "deposit = pd.read_csv('./data/개인사업자예금대출정보.csv', index_col = 0)\n",
    "estimation = pd.read_csv('./data/개인사업자평가정보.csv', index_col = 0)"
   ]
  },
  {
   "cell_type": "code",
   "execution_count": 5,
   "id": "ef9ecf99",
   "metadata": {},
   "outputs": [
    {
     "name": "stdout",
     "output_type": "stream",
     "text": [
      "<class 'pandas.core.frame.DataFrame'>\n",
      "Int64Index: 2623 entries, 0 to 2622\n",
      "Data columns (total 18 columns):\n",
      " #   Column    Non-Null Count  Dtype \n",
      "---  ------    --------------  ----- \n",
      " 0   기준년월      2623 non-null   int64 \n",
      " 1   대표자성별명    2623 non-null   object\n",
      " 2   대표자연령대명   2623 non-null   object\n",
      " 3   설립년도      2623 non-null   int64 \n",
      " 4   사업지역명     2623 non-null   object\n",
      " 5   사업업종코드    2623 non-null   int64 \n",
      " 6   사업업종명     2623 non-null   object\n",
      " 7   종업원수구분명   2623 non-null   object\n",
      " 8   재무기준년도    2623 non-null   int64 \n",
      " 9   자본금액      2623 non-null   int64 \n",
      " 10  매출금액      2623 non-null   int64 \n",
      " 11  영업이익      2623 non-null   int64 \n",
      " 12  당기순이익     2623 non-null   int64 \n",
      " 13  자산총합계금액   2623 non-null   int64 \n",
      " 14  부채총합계금액   2623 non-null   int64 \n",
      " 15  보증잔액      2623 non-null   int64 \n",
      " 16  운전자금대출여부  2623 non-null   object\n",
      " 17  시설자금대출여부  2623 non-null   object\n",
      "dtypes: int64(11), object(7)\n",
      "memory usage: 389.4+ KB\n"
     ]
    }
   ],
   "source": [
    "# pd.merge()함수를 통해 finance와 guarantee DataFrame을 합침\n",
    "# on 옵션을 통해 기준 column들을 설정\n",
    "# how 옵션을 통해 어떻게 합칠지 결정 -> inner이므로 공통된 row들만 합침\n",
    "df = pd.merge(finance, guarantee, on = ['기준년월', '대표자성별명', '대표자연령대명', '설립년도', '사업지역명', '사업업종코드', '사업업종명',\n",
    "       '종업원수구분명'], how = 'inner')\n",
    "df.info()"
   ]
  },
  {
   "cell_type": "code",
   "execution_count": 6,
   "id": "007e3dfa",
   "metadata": {},
   "outputs": [
    {
     "name": "stdout",
     "output_type": "stream",
     "text": [
      "<class 'pandas.core.frame.DataFrame'>\n",
      "Int64Index: 3235 entries, 0 to 3234\n",
      "Data columns (total 22 columns):\n",
      " #   Column      Non-Null Count  Dtype \n",
      "---  ------      --------------  ----- \n",
      " 0   기준년월        3235 non-null   int64 \n",
      " 1   대표자성별명      3235 non-null   object\n",
      " 2   대표자연령대명     3235 non-null   object\n",
      " 3   설립년도        3235 non-null   int64 \n",
      " 4   사업지역명       3235 non-null   object\n",
      " 5   사업업종코드      3235 non-null   int64 \n",
      " 6   사업업종명       3235 non-null   object\n",
      " 7   종업원수구분명     3235 non-null   object\n",
      " 8   재무기준년도      3235 non-null   int64 \n",
      " 9   자본금액        3235 non-null   int64 \n",
      " 10  매출금액        3235 non-null   int64 \n",
      " 11  영업이익        3235 non-null   int64 \n",
      " 12  당기순이익       3235 non-null   int64 \n",
      " 13  자산총합계금액     3235 non-null   int64 \n",
      " 14  부채총합계금액     3235 non-null   int64 \n",
      " 15  보증잔액        3235 non-null   int64 \n",
      " 16  운전자금대출여부_x  3235 non-null   object\n",
      " 17  시설자금대출여부_x  3235 non-null   object\n",
      " 18  예금평잔        3235 non-null   int64 \n",
      " 19  대출평잔        3235 non-null   int64 \n",
      " 20  운전자금대출여부_y  3235 non-null   object\n",
      " 21  시설자금대출여부_y  3235 non-null   object\n",
      "dtypes: int64(13), object(9)\n",
      "memory usage: 581.3+ KB\n"
     ]
    }
   ],
   "source": [
    "# pd.merge()함수를 통해 df와 deposit DataFrame을 합침\n",
    "# on 옵션을 통해 기준 column들을 설정\n",
    "# how 옵션을 통해 어떻게 합칠지 결정 -> inner이므로 공통된 row들만 합침\n",
    "df = pd.merge(df, deposit, on = ['기준년월', '대표자성별명', '대표자연령대명', '설립년도', '사업지역명', '사업업종코드', '사업업종명',\n",
    "       '종업원수구분명'], how = 'inner')\n",
    "df.info()"
   ]
  },
  {
   "cell_type": "code",
   "execution_count": 7,
   "id": "d0db7e2c",
   "metadata": {},
   "outputs": [
    {
     "name": "stdout",
     "output_type": "stream",
     "text": [
      "<class 'pandas.core.frame.DataFrame'>\n",
      "Int64Index: 4464 entries, 0 to 4463\n",
      "Data columns (total 23 columns):\n",
      " #   Column      Non-Null Count  Dtype \n",
      "---  ------      --------------  ----- \n",
      " 0   기준년월        4464 non-null   int64 \n",
      " 1   대표자성별명      4464 non-null   object\n",
      " 2   대표자연령대명     4464 non-null   object\n",
      " 3   설립년도        4464 non-null   int64 \n",
      " 4   사업지역명       4464 non-null   object\n",
      " 5   사업업종코드      4464 non-null   int64 \n",
      " 6   사업업종명       4464 non-null   object\n",
      " 7   종업원수구분명     4464 non-null   object\n",
      " 8   재무기준년도      4464 non-null   int64 \n",
      " 9   자본금액        4464 non-null   int64 \n",
      " 10  매출금액        4464 non-null   int64 \n",
      " 11  영업이익        4464 non-null   int64 \n",
      " 12  당기순이익       4464 non-null   int64 \n",
      " 13  자산총합계금액     4464 non-null   int64 \n",
      " 14  부채총합계금액     4464 non-null   int64 \n",
      " 15  보증잔액        4464 non-null   int64 \n",
      " 16  운전자금대출여부_x  4464 non-null   object\n",
      " 17  시설자금대출여부_x  4464 non-null   object\n",
      " 18  예금평잔        4464 non-null   int64 \n",
      " 19  대출평잔        4464 non-null   int64 \n",
      " 20  운전자금대출여부_y  4464 non-null   object\n",
      " 21  시설자금대출여부_y  4464 non-null   object\n",
      " 22  신용평가등급명     4464 non-null   object\n",
      "dtypes: int64(13), object(10)\n",
      "memory usage: 837.0+ KB\n"
     ]
    }
   ],
   "source": [
    "# pd.merge()함수를 통해 df와 estimation DataFrame을 합침\n",
    "# on 옵션을 통해 기준 column들을 설정\n",
    "# how 옵션을 통해 어떻게 합칠지 결정 -> inner이므로 공통된 row들만 합침\n",
    "df = pd.merge(df, estimation, on = ['기준년월', '대표자성별명', '대표자연령대명', '설립년도', '사업지역명', '사업업종코드', '사업업종명',\n",
    "       '종업원수구분명'], how = 'inner')\n",
    "df.info()"
   ]
  },
  {
   "cell_type": "code",
   "execution_count": 8,
   "id": "a7349569",
   "metadata": {},
   "outputs": [],
   "source": [
    "# guarantee와 deposit DataFrame에 공통된 column('운전자금대출여부', '시설자금대출여부')들이 있어 중복으로 들어간 것을 확인\n",
    "# drop()함수를 통해 중복된 열을 지움\n",
    "# inplace = True 옵션을 설정하면 원래 DataFrame 내의 값을 바꿈\n",
    "# inplace = False(default)일 때에는 새로운 객체를 통해 저장해줘야 함(ex. new_df = df.rename())\n",
    "df.drop(columns = ['운전자금대출여부_y', '시설자금대출여부_y'], inplace = True)\n",
    "# rename()함수를 통해 column명 변경\n",
    "# inplace = True 옵션을 설정하면 원래 DataFrame 내의 값을 바꿈\n",
    "# inplace = False(default)일 때에는 새로운 객체를 통해 저장해줘야 함(ex. new_df = df.rename())\n",
    "df.rename(columns = {'운전자금대출여부_x' : '운전자금대출여부', '시설자금대출여부_x' : '시설자금대출여부'}, inplace = True)"
   ]
  },
  {
   "cell_type": "code",
   "execution_count": 10,
   "id": "24ecfbc5",
   "metadata": {},
   "outputs": [],
   "source": [
    "# to_csv 함수를 통해 csv파일로 저장\n",
    "# sep = ',' -> csv(comma seperated values)이므로 구분자는 ','\n",
    "# na_rep = 'NaN' -> DataFrame의 결측값을 어떻게 저장할지 지정해주는 옵션\n",
    "# encoding = 'utf-8-sig' -> csv파일을 저장할 때 한글이 있다면 'utf-8-sig'로 지정해줘야 함\n",
    "df.to_csv('C:\\\\Users\\\\DMC CONET\\\\Documents\\\\python\\\\project1\\\\data\\\\종합데이터.csv', encoding = 'utf-8-sig', sep = ',', na_rep = 'NaN')"
   ]
  },
  {
   "cell_type": "markdown",
   "id": "c10d419d",
   "metadata": {},
   "source": [
    "# 가설검정"
   ]
  },
  {
   "cell_type": "code",
   "execution_count": 11,
   "id": "c9162233",
   "metadata": {},
   "outputs": [],
   "source": [
    "import scipy.stats as stats # 가설검정을 위한 패키지"
   ]
  },
  {
   "cell_type": "markdown",
   "id": "75e8fe4f",
   "metadata": {},
   "source": [
    "## 연속형 변수"
   ]
  },
  {
   "cell_type": "markdown",
   "id": "586a5376",
   "metadata": {},
   "source": [
    "### 신용등급별 자본금액"
   ]
  },
  {
   "cell_type": "code",
   "execution_count": 13,
   "id": "95415d5a",
   "metadata": {
    "scrolled": true
   },
   "outputs": [
    {
     "name": "stdout",
     "output_type": "stream",
     "text": [
      "NormaltestResult(statistic=52200.395648896636, pvalue=0.0)\n",
      "KruskalResult(statistic=292.69123689147904, pvalue=2.7727164454269814e-64)\n"
     ]
    }
   ],
   "source": [
    "# 집단 별 평균의 차이가 있는지 검정하기 위해 집단을 구분할 조건을 지정\n",
    "cond1 = df['신용평가등급명'] == '보통이하'\n",
    "cond2 = df['신용평가등급명'] == '양호'\n",
    "cond3 = df['신용평가등급명'] == '우수'\n",
    "\n",
    "# 정규성 검정\n",
    "print(stats.normaltest(df['자본금액']))\n",
    "# 자본금액의 분포는 정규분포를 따르지 않는다.(p-value < 0.05)\n",
    "\n",
    "# 비정규분포, 3개 이상의 집단 간 비교 -> stats.kruskal()\n",
    "print(stats.kruskal(df[cond1]['자본금액'], df[cond2]['자본금액'], df[cond3]['자본금액']))\n",
    "# 신용등급별 자본금액 평균에는 차이가 있다. (p-value < 0.05)"
   ]
  },
  {
   "cell_type": "markdown",
   "id": "0e9eaeff",
   "metadata": {},
   "source": [
    "### 신용등급별 매출금액"
   ]
  },
  {
   "cell_type": "code",
   "execution_count": 14,
   "id": "46e583e9",
   "metadata": {},
   "outputs": [
    {
     "name": "stdout",
     "output_type": "stream",
     "text": [
      "NormaltestResult(statistic=12520.757806544945, pvalue=0.0)\n",
      "KruskalResult(statistic=56.56727742825998, pvalue=5.206810575971448e-13)\n"
     ]
    }
   ],
   "source": [
    "print(stats.normaltest(df['매출금액']))\n",
    "# 매출금액의 분포는 정규분포를 따르지 않는다.(p-value < 0.05)\n",
    "\n",
    "print(stats.kruskal(df[cond1]['매출금액'], df[cond2]['매출금액'], df[cond3]['매출금액']))\n",
    "# 신용등급별 매출금액 평균에는 차이가 있다. (p-value < 0.05)"
   ]
  },
  {
   "cell_type": "markdown",
   "id": "fbf3274c",
   "metadata": {},
   "source": [
    "### 신용등급별 영업이익"
   ]
  },
  {
   "cell_type": "code",
   "execution_count": 15,
   "id": "fa5a664e",
   "metadata": {},
   "outputs": [
    {
     "name": "stdout",
     "output_type": "stream",
     "text": [
      "NormaltestResult(statistic=246.45161893280851, pvalue=3.0458668951488945e-54)\n",
      "KruskalResult(statistic=160.20760556376177, pvalue=1.6268985510472708e-35)\n"
     ]
    }
   ],
   "source": [
    "print(stats.normaltest(df['영업이익']))\n",
    "# 영업이익의 분포는 정규분포를 따르지 않는다.(p-value < 0.05)\n",
    "\n",
    "print(stats.kruskal(df[cond1]['영업이익'], df[cond2]['영업이익'], df[cond3]['영업이익']))\n",
    "# 신용등급별 영업이익 평균에는 차이가 있다. (p-value < 0.05)"
   ]
  },
  {
   "cell_type": "markdown",
   "id": "e49607e0",
   "metadata": {},
   "source": [
    "### 신용등급별 당기순이익"
   ]
  },
  {
   "cell_type": "code",
   "execution_count": 16,
   "id": "37832c03",
   "metadata": {},
   "outputs": [
    {
     "name": "stdout",
     "output_type": "stream",
     "text": [
      "NormaltestResult(statistic=1261.4881130877802, pvalue=1.1785194372601814e-274)\n",
      "KruskalResult(statistic=241.5810840508668, pvalue=3.4780364750865303e-53)\n"
     ]
    }
   ],
   "source": [
    "print(stats.normaltest(df['당기순이익']))\n",
    "# 당기순이익의 분포는 정규분포를 따르지 않는다.(p-value < 0.05)\n",
    "\n",
    "print(stats.kruskal(df[cond1]['당기순이익'], df[cond2]['당기순이익'], df[cond3]['당기순이익']))\n",
    "# 신용등급별 당기순이익 평균에는 차이가 있다. (p-value < 0.05)"
   ]
  },
  {
   "cell_type": "markdown",
   "id": "d7e0a901",
   "metadata": {},
   "source": [
    "### 신용등급별 자산총합계금액"
   ]
  },
  {
   "cell_type": "code",
   "execution_count": 17,
   "id": "5e180d93",
   "metadata": {},
   "outputs": [
    {
     "name": "stdout",
     "output_type": "stream",
     "text": [
      "NormaltestResult(statistic=1125.6473269640608, pvalue=3.705003863437866e-245)\n",
      "KruskalResult(statistic=177.99490001705533, pvalue=2.2330505677107722e-39)\n"
     ]
    }
   ],
   "source": [
    "print(stats.normaltest(df['자산총합계금액']))\n",
    "# 당기순이익의 분포는 정규분포를 따르지 않는다.(p-value < 0.05)\n",
    "\n",
    "print(stats.kruskal(df[cond1]['자산총합계금액'], df[cond2]['자산총합계금액'], df[cond3]['자산총합계금액']))\n",
    "# 신용등급별 자산총합계금액 평균에는 차이가 있다. (p-value < 0.05)"
   ]
  },
  {
   "cell_type": "markdown",
   "id": "d7b184fa",
   "metadata": {},
   "source": [
    "### 신용등급별 부채총합계금액"
   ]
  },
  {
   "cell_type": "code",
   "execution_count": 18,
   "id": "0f3b037f",
   "metadata": {},
   "outputs": [
    {
     "name": "stdout",
     "output_type": "stream",
     "text": [
      "NormaltestResult(statistic=7294.042379485789, pvalue=0.0)\n",
      "KruskalResult(statistic=60.010692004923925, pvalue=9.307730574667615e-14)\n"
     ]
    }
   ],
   "source": [
    "print(stats.normaltest(df['부채총합계금액']))\n",
    "# 부채총합계금액의 분포는 정규분포를 따르지 않는다.(p-value < 0.05)\n",
    "\n",
    "print(stats.kruskal(df[cond1]['부채총합계금액'], df[cond2]['부채총합계금액'], df[cond3]['부채총합계금액']))\n",
    "# 신용등급별 부채총합계금액 평균에는 차이가 있다. (p-value < 0.05)"
   ]
  },
  {
   "cell_type": "markdown",
   "id": "7d301033",
   "metadata": {},
   "source": [
    "### 신용등급별 보증잔액"
   ]
  },
  {
   "cell_type": "code",
   "execution_count": 19,
   "id": "c8d3e99c",
   "metadata": {},
   "outputs": [
    {
     "name": "stdout",
     "output_type": "stream",
     "text": [
      "NormaltestResult(statistic=33384.5315717331, pvalue=0.0)\n",
      "KruskalResult(statistic=22.768784217303143, pvalue=1.1371593521083084e-05)\n"
     ]
    }
   ],
   "source": [
    "print(stats.normaltest(df['보증잔액']))\n",
    "# 보증잔액의 분포는 정규분포를 따르지 않는다.(p-value < 0.05)\n",
    "\n",
    "print(stats.kruskal(df[cond1]['보증잔액'], df[cond2]['보증잔액'], df[cond3]['보증잔액']))\n",
    "# 신용등급별 보증잔액 평균에는 차이가 있다. (p-value < 0.05)"
   ]
  },
  {
   "cell_type": "markdown",
   "id": "8f3a71b8",
   "metadata": {},
   "source": [
    "### 신용등급별 예금평잔"
   ]
  },
  {
   "cell_type": "code",
   "execution_count": 22,
   "id": "8cc035b9",
   "metadata": {},
   "outputs": [
    {
     "name": "stdout",
     "output_type": "stream",
     "text": [
      "NormaltestResult(statistic=650.8390503000402, pvalue=4.6999790682130145e-142)\n",
      "KruskalResult(statistic=74.8511475467561, pvalue=5.575448750782878e-17)\n"
     ]
    }
   ],
   "source": [
    "print(stats.normaltest(df['예금평잔']))\n",
    "# 보증잔액의 분포는 정규분포를 따르지 않는다.(p-value < 0.05)\n",
    "\n",
    "print(stats.kruskal(df[cond1]['예금평잔'], df[cond2]['예금평잔'], df[cond3]['예금평잔']))\n",
    "# 신용등급별 보증잔액 평균에는 차이가 있다. (p-value < 0.05)"
   ]
  },
  {
   "cell_type": "markdown",
   "id": "8e5f52c3",
   "metadata": {},
   "source": [
    "### 신용등급별 대출평잔"
   ]
  },
  {
   "cell_type": "code",
   "execution_count": 23,
   "id": "a8ed649c",
   "metadata": {},
   "outputs": [
    {
     "name": "stdout",
     "output_type": "stream",
     "text": [
      "NormaltestResult(statistic=31023.79191900247, pvalue=0.0)\n",
      "KruskalResult(statistic=38.634256888823685, pvalue=4.0801648521338054e-09)\n"
     ]
    }
   ],
   "source": [
    "print(stats.normaltest(df['대출평잔']))\n",
    "# 보증잔액의 분포는 정규분포를 따르지 않는다.(p-value < 0.05)\n",
    "\n",
    "print(stats.kruskal(df[cond1]['대출평잔'], df[cond2]['대출평잔'], df[cond3]['대출평잔']))\n",
    "# 신용등급별 보증잔액 평균에는 차이가 있다. (p-value < 0.05)"
   ]
  },
  {
   "cell_type": "markdown",
   "id": "d2cf801e",
   "metadata": {},
   "source": [
    "## 범주형 변수"
   ]
  },
  {
   "cell_type": "markdown",
   "id": "7edcf9f3",
   "metadata": {},
   "source": [
    "### 신용등급별 운전자금대출여부"
   ]
  },
  {
   "cell_type": "code",
   "execution_count": 20,
   "id": "f3856791",
   "metadata": {},
   "outputs": [
    {
     "data": {
      "text/plain": [
       "(11.931872385730621,\n",
       " 0.002564642483140515,\n",
       " 2,\n",
       " array([[   9.17921147, 2551.82078853],\n",
       "        [   3.7562724 , 1044.2437276 ],\n",
       "        [   3.06451613,  851.93548387]]))"
      ]
     },
     "execution_count": 20,
     "metadata": {},
     "output_type": "execute_result"
    }
   ],
   "source": [
    "# 범주형 변수(운전자금대출여부, 신용등급) 간 연관성이 있는지 검정하기 위해 카이제곱 검정 실시\n",
    "\n",
    "new_df = pd.crosstab(df['신용평가등급명'], df['운전자금대출여부'])\n",
    "stats.chi2_contingency(new_df)\n",
    "# 신용등급과 운전자금대출여부는 상관이 있다. (p-value < 0.05)"
   ]
  },
  {
   "cell_type": "markdown",
   "id": "3ae0413c",
   "metadata": {},
   "source": [
    "### 신용등급별 시설자금대출여부"
   ]
  },
  {
   "cell_type": "code",
   "execution_count": 21,
   "id": "9a85d6c8",
   "metadata": {},
   "outputs": [
    {
     "data": {
      "text/plain": [
       "(57.465288489916176,\n",
       " 3.3233122922429104e-13,\n",
       " 2,\n",
       " array([[2442.24395161,  118.75604839],\n",
       "        [ 999.40322581,   48.59677419],\n",
       "        [ 815.35282258,   39.64717742]]))"
      ]
     },
     "execution_count": 21,
     "metadata": {},
     "output_type": "execute_result"
    }
   ],
   "source": [
    "new_df = pd.crosstab(df['신용평가등급명'], df['시설자금대출여부'])\n",
    "stats.chi2_contingency(new_df)\n",
    "# 신용등급과 시설자금대출여부는 상관이 있다. (p-value < 0.05)"
   ]
  }
 ],
 "metadata": {
  "kernelspec": {
   "display_name": "python3_9_15",
   "language": "python",
   "name": "tf_gpu"
  },
  "language_info": {
   "codemirror_mode": {
    "name": "ipython",
    "version": 3
   },
   "file_extension": ".py",
   "mimetype": "text/x-python",
   "name": "python",
   "nbconvert_exporter": "python",
   "pygments_lexer": "ipython3",
   "version": "3.9.15"
  }
 },
 "nbformat": 4,
 "nbformat_minor": 5
}
