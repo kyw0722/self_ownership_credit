{
 "cells": [
  {
   "cell_type": "markdown",
   "id": "2733a6f4",
   "metadata": {},
   "source": [
    "# 선형회귀를 통해 가중치 구하기(실패)"
   ]
  },
  {
   "cell_type": "code",
   "execution_count": 1,
   "id": "e0690318",
   "metadata": {},
   "outputs": [],
   "source": [
    "import pandas as pd"
   ]
  },
  {
   "cell_type": "code",
   "execution_count": 2,
   "id": "4cfd6431",
   "metadata": {},
   "outputs": [],
   "source": [
    "# csv파일을 불러옴\n",
    "# index_col = 0 옵션 -> DataFrame의 첫 column이 'unnamed: 0'가 되는 것을 방지\n",
    "df = pd.read_csv('./data/종합데이터.csv', index_col = 0)"
   ]
  },
  {
   "cell_type": "code",
   "execution_count": 3,
   "id": "74078921",
   "metadata": {},
   "outputs": [
    {
     "name": "stdout",
     "output_type": "stream",
     "text": [
      "<class 'pandas.core.frame.DataFrame'>\n",
      "Int64Index: 4464 entries, 0 to 4463\n",
      "Data columns (total 21 columns):\n",
      " #   Column    Non-Null Count  Dtype \n",
      "---  ------    --------------  ----- \n",
      " 0   기준년월      4464 non-null   int64 \n",
      " 1   대표자성별명    4464 non-null   object\n",
      " 2   대표자연령대명   4464 non-null   object\n",
      " 3   설립년도      4464 non-null   int64 \n",
      " 4   사업지역명     4464 non-null   object\n",
      " 5   사업업종코드    4464 non-null   int64 \n",
      " 6   사업업종명     4464 non-null   object\n",
      " 7   종업원수구분명   4464 non-null   object\n",
      " 8   재무기준년도    4464 non-null   int64 \n",
      " 9   자본금액      4464 non-null   int64 \n",
      " 10  매출금액      4464 non-null   int64 \n",
      " 11  영업이익      4464 non-null   int64 \n",
      " 12  당기순이익     4464 non-null   int64 \n",
      " 13  자산총합계금액   4464 non-null   int64 \n",
      " 14  부채총합계금액   4464 non-null   int64 \n",
      " 15  보증잔액      4464 non-null   int64 \n",
      " 16  운전자금대출여부  4464 non-null   object\n",
      " 17  시설자금대출여부  4464 non-null   object\n",
      " 18  예금평잔      4464 non-null   int64 \n",
      " 19  대출평잔      4464 non-null   int64 \n",
      " 20  신용평가등급명   4464 non-null   object\n",
      "dtypes: int64(13), object(8)\n",
      "memory usage: 767.2+ KB\n"
     ]
    }
   ],
   "source": [
    "df.info()"
   ]
  },
  {
   "cell_type": "code",
   "execution_count": 4,
   "id": "777a3aba",
   "metadata": {},
   "outputs": [
    {
     "data": {
      "text/plain": [
       "Index(['기준년월', '대표자성별명', '대표자연령대명', '설립년도', '사업지역명', '사업업종코드', '사업업종명',\n",
       "       '종업원수구분명', '재무기준년도', '자본금액', '매출금액', '영업이익', '당기순이익', '자산총합계금액',\n",
       "       '부채총합계금액', '보증잔액', '운전자금대출여부', '시설자금대출여부', '예금평잔', '대출평잔', '신용평가등급명'],\n",
       "      dtype='object')"
      ]
     },
     "execution_count": 4,
     "metadata": {},
     "output_type": "execute_result"
    }
   ],
   "source": [
    "df.columns"
   ]
  },
  {
   "cell_type": "code",
   "execution_count": 5,
   "id": "c1ec3333",
   "metadata": {},
   "outputs": [],
   "source": [
    "# 전처리 전 연속형 변수명들과 범주형 변수들명을 따로 뽑아 리스트로 만듦\n",
    "numeric_list = ['자본금액', '매출금액', '영업이익', '당기순이익', '자산총합계금액',\n",
    "       '부채총합계금액', '보증잔액', '예금평잔', '대출평잔']\n",
    "category_list = ['종업원수구분명', '운전자금대출여부', '시설자금대출여부']"
   ]
  },
  {
   "cell_type": "code",
   "execution_count": 6,
   "id": "23fee5ed",
   "metadata": {},
   "outputs": [],
   "source": [
    "# 연속형 변수들과 범주형 변수들을 나눠줌 -> 전처리 과정이 다르기 때문\n",
    "# y(target) 설정\n",
    "X_numeric = df[numeric_list]\n",
    "X_category = df[category_list]\n",
    "y = df['신용평가등급명']"
   ]
  },
  {
   "cell_type": "code",
   "execution_count": 7,
   "id": "81c7ece7",
   "metadata": {},
   "outputs": [],
   "source": [
    "# 회귀(Regression)이므로 범주형인 '신용평가등급명'을 연속형으로 변환\n",
    "y_numeric = df['신용평가등급명'].replace({'보통이하' : 0, '양호' : 1, '우수' : 2})"
   ]
  },
  {
   "cell_type": "markdown",
   "id": "9e9b2090",
   "metadata": {},
   "source": [
    "### 범주형 변수 전처리(OneHotEncoding)"
   ]
  },
  {
   "cell_type": "code",
   "execution_count": 8,
   "id": "a63596ca",
   "metadata": {},
   "outputs": [],
   "source": [
    "from sklearn.preprocessing import OneHotEncoder"
   ]
  },
  {
   "cell_type": "code",
   "execution_count": 9,
   "id": "dd318b9e",
   "metadata": {},
   "outputs": [
    {
     "name": "stderr",
     "output_type": "stream",
     "text": [
      "C:\\Users\\DMC CONET\\miniconda3\\envs\\tf_gpu\\lib\\site-packages\\sklearn\\utils\\deprecation.py:87: FutureWarning: Function get_feature_names is deprecated; get_feature_names is deprecated in 1.0 and will be removed in 1.2. Please use get_feature_names_out instead.\n",
      "  warnings.warn(msg, category=FutureWarning)\n"
     ]
    }
   ],
   "source": [
    "ohe = OneHotEncoder()\n",
    "X_cat_matrix = ohe.fit_transform(X_category)\n",
    "X_cat_ohe = pd.DataFrame(X_cat_matrix.toarray(), columns = ohe.get_feature_names())"
   ]
  },
  {
   "cell_type": "markdown",
   "id": "96343ab6",
   "metadata": {},
   "source": [
    "### 연속형 변수 전처리(MinMaxScaler)"
   ]
  },
  {
   "cell_type": "code",
   "execution_count": 10,
   "id": "ea0e813b",
   "metadata": {},
   "outputs": [],
   "source": [
    "from sklearn.preprocessing import MinMaxScaler"
   ]
  },
  {
   "cell_type": "code",
   "execution_count": 11,
   "id": "acb3f73c",
   "metadata": {},
   "outputs": [
    {
     "name": "stderr",
     "output_type": "stream",
     "text": [
      "C:\\Users\\DMC CONET\\AppData\\Local\\Temp\\ipykernel_1368\\2663967991.py:3: SettingWithCopyWarning: \n",
      "A value is trying to be set on a copy of a slice from a DataFrame.\n",
      "Try using .loc[row_indexer,col_indexer] = value instead\n",
      "\n",
      "See the caveats in the documentation: https://pandas.pydata.org/pandas-docs/stable/user_guide/indexing.html#returning-a-view-versus-a-copy\n",
      "  X_numeric[numeric_list] = scaler.transform(X_numeric[numeric_list])\n"
     ]
    }
   ],
   "source": [
    "scaler = MinMaxScaler()\n",
    "scaler.fit(X_numeric[numeric_list])\n",
    "X_numeric[numeric_list] = scaler.transform(X_numeric[numeric_list])"
   ]
  },
  {
   "cell_type": "markdown",
   "id": "7c8a1a69",
   "metadata": {},
   "source": [
    "### 전처리가 완료된 변수들을 합침"
   ]
  },
  {
   "cell_type": "code",
   "execution_count": 12,
   "id": "27b34328",
   "metadata": {},
   "outputs": [
    {
     "data": {
      "text/html": [
       "<div>\n",
       "<style scoped>\n",
       "    .dataframe tbody tr th:only-of-type {\n",
       "        vertical-align: middle;\n",
       "    }\n",
       "\n",
       "    .dataframe tbody tr th {\n",
       "        vertical-align: top;\n",
       "    }\n",
       "\n",
       "    .dataframe thead th {\n",
       "        text-align: right;\n",
       "    }\n",
       "</style>\n",
       "<table border=\"1\" class=\"dataframe\">\n",
       "  <thead>\n",
       "    <tr style=\"text-align: right;\">\n",
       "      <th></th>\n",
       "      <th>자본금액</th>\n",
       "      <th>매출금액</th>\n",
       "      <th>영업이익</th>\n",
       "      <th>당기순이익</th>\n",
       "      <th>자산총합계금액</th>\n",
       "      <th>부채총합계금액</th>\n",
       "      <th>보증잔액</th>\n",
       "      <th>예금평잔</th>\n",
       "      <th>대출평잔</th>\n",
       "      <th>x0_0명</th>\n",
       "      <th>x0_10명 이상 30명 미만</th>\n",
       "      <th>x0_1명 이상 5명 미만</th>\n",
       "      <th>x0_5명 이상 10명 미만</th>\n",
       "      <th>x1_N</th>\n",
       "      <th>x1_Y</th>\n",
       "      <th>x2_N</th>\n",
       "      <th>x2_Y</th>\n",
       "    </tr>\n",
       "  </thead>\n",
       "  <tbody>\n",
       "    <tr>\n",
       "      <th>0</th>\n",
       "      <td>0.198895</td>\n",
       "      <td>0.611314</td>\n",
       "      <td>0.801829</td>\n",
       "      <td>0.829949</td>\n",
       "      <td>0.201190</td>\n",
       "      <td>0.255725</td>\n",
       "      <td>1.000000</td>\n",
       "      <td>0.444444</td>\n",
       "      <td>1.000000</td>\n",
       "      <td>0.0</td>\n",
       "      <td>0.0</td>\n",
       "      <td>1.0</td>\n",
       "      <td>0.0</td>\n",
       "      <td>0.0</td>\n",
       "      <td>1.0</td>\n",
       "      <td>1.0</td>\n",
       "      <td>0.0</td>\n",
       "    </tr>\n",
       "    <tr>\n",
       "      <th>1</th>\n",
       "      <td>0.198895</td>\n",
       "      <td>0.611314</td>\n",
       "      <td>0.801829</td>\n",
       "      <td>0.829949</td>\n",
       "      <td>0.201190</td>\n",
       "      <td>0.255725</td>\n",
       "      <td>1.000000</td>\n",
       "      <td>0.444444</td>\n",
       "      <td>1.000000</td>\n",
       "      <td>0.0</td>\n",
       "      <td>0.0</td>\n",
       "      <td>1.0</td>\n",
       "      <td>0.0</td>\n",
       "      <td>0.0</td>\n",
       "      <td>1.0</td>\n",
       "      <td>1.0</td>\n",
       "      <td>0.0</td>\n",
       "    </tr>\n",
       "    <tr>\n",
       "      <th>2</th>\n",
       "      <td>0.198895</td>\n",
       "      <td>0.611314</td>\n",
       "      <td>0.801829</td>\n",
       "      <td>0.829949</td>\n",
       "      <td>0.201190</td>\n",
       "      <td>0.255725</td>\n",
       "      <td>1.000000</td>\n",
       "      <td>0.444444</td>\n",
       "      <td>1.000000</td>\n",
       "      <td>0.0</td>\n",
       "      <td>0.0</td>\n",
       "      <td>1.0</td>\n",
       "      <td>0.0</td>\n",
       "      <td>0.0</td>\n",
       "      <td>1.0</td>\n",
       "      <td>1.0</td>\n",
       "      <td>0.0</td>\n",
       "    </tr>\n",
       "    <tr>\n",
       "      <th>3</th>\n",
       "      <td>0.198895</td>\n",
       "      <td>0.611314</td>\n",
       "      <td>0.801829</td>\n",
       "      <td>0.829949</td>\n",
       "      <td>0.201190</td>\n",
       "      <td>0.255725</td>\n",
       "      <td>1.000000</td>\n",
       "      <td>0.444444</td>\n",
       "      <td>1.000000</td>\n",
       "      <td>0.0</td>\n",
       "      <td>0.0</td>\n",
       "      <td>1.0</td>\n",
       "      <td>0.0</td>\n",
       "      <td>0.0</td>\n",
       "      <td>1.0</td>\n",
       "      <td>1.0</td>\n",
       "      <td>0.0</td>\n",
       "    </tr>\n",
       "    <tr>\n",
       "      <th>4</th>\n",
       "      <td>0.198895</td>\n",
       "      <td>0.611314</td>\n",
       "      <td>0.801829</td>\n",
       "      <td>0.829949</td>\n",
       "      <td>0.201190</td>\n",
       "      <td>0.255725</td>\n",
       "      <td>1.000000</td>\n",
       "      <td>0.000000</td>\n",
       "      <td>0.427586</td>\n",
       "      <td>0.0</td>\n",
       "      <td>0.0</td>\n",
       "      <td>1.0</td>\n",
       "      <td>0.0</td>\n",
       "      <td>0.0</td>\n",
       "      <td>1.0</td>\n",
       "      <td>1.0</td>\n",
       "      <td>0.0</td>\n",
       "    </tr>\n",
       "    <tr>\n",
       "      <th>...</th>\n",
       "      <td>...</td>\n",
       "      <td>...</td>\n",
       "      <td>...</td>\n",
       "      <td>...</td>\n",
       "      <td>...</td>\n",
       "      <td>...</td>\n",
       "      <td>...</td>\n",
       "      <td>...</td>\n",
       "      <td>...</td>\n",
       "      <td>...</td>\n",
       "      <td>...</td>\n",
       "      <td>...</td>\n",
       "      <td>...</td>\n",
       "      <td>...</td>\n",
       "      <td>...</td>\n",
       "      <td>...</td>\n",
       "      <td>...</td>\n",
       "    </tr>\n",
       "    <tr>\n",
       "      <th>4459</th>\n",
       "      <td>1.000000</td>\n",
       "      <td>1.000000</td>\n",
       "      <td>0.792683</td>\n",
       "      <td>0.847716</td>\n",
       "      <td>0.464286</td>\n",
       "      <td>0.347328</td>\n",
       "      <td>1.000000</td>\n",
       "      <td>0.166667</td>\n",
       "      <td>1.000000</td>\n",
       "      <td>0.0</td>\n",
       "      <td>0.0</td>\n",
       "      <td>1.0</td>\n",
       "      <td>0.0</td>\n",
       "      <td>0.0</td>\n",
       "      <td>1.0</td>\n",
       "      <td>0.0</td>\n",
       "      <td>1.0</td>\n",
       "    </tr>\n",
       "    <tr>\n",
       "      <th>4460</th>\n",
       "      <td>1.000000</td>\n",
       "      <td>1.000000</td>\n",
       "      <td>0.792683</td>\n",
       "      <td>0.847716</td>\n",
       "      <td>0.464286</td>\n",
       "      <td>0.347328</td>\n",
       "      <td>0.173469</td>\n",
       "      <td>0.000000</td>\n",
       "      <td>0.131034</td>\n",
       "      <td>0.0</td>\n",
       "      <td>0.0</td>\n",
       "      <td>1.0</td>\n",
       "      <td>0.0</td>\n",
       "      <td>0.0</td>\n",
       "      <td>1.0</td>\n",
       "      <td>1.0</td>\n",
       "      <td>0.0</td>\n",
       "    </tr>\n",
       "    <tr>\n",
       "      <th>4461</th>\n",
       "      <td>1.000000</td>\n",
       "      <td>1.000000</td>\n",
       "      <td>0.792683</td>\n",
       "      <td>0.847716</td>\n",
       "      <td>0.464286</td>\n",
       "      <td>0.347328</td>\n",
       "      <td>0.173469</td>\n",
       "      <td>0.000000</td>\n",
       "      <td>0.131034</td>\n",
       "      <td>0.0</td>\n",
       "      <td>0.0</td>\n",
       "      <td>1.0</td>\n",
       "      <td>0.0</td>\n",
       "      <td>0.0</td>\n",
       "      <td>1.0</td>\n",
       "      <td>1.0</td>\n",
       "      <td>0.0</td>\n",
       "    </tr>\n",
       "    <tr>\n",
       "      <th>4462</th>\n",
       "      <td>1.000000</td>\n",
       "      <td>1.000000</td>\n",
       "      <td>0.792683</td>\n",
       "      <td>0.847716</td>\n",
       "      <td>0.464286</td>\n",
       "      <td>0.347328</td>\n",
       "      <td>0.173469</td>\n",
       "      <td>0.166667</td>\n",
       "      <td>1.000000</td>\n",
       "      <td>0.0</td>\n",
       "      <td>0.0</td>\n",
       "      <td>1.0</td>\n",
       "      <td>0.0</td>\n",
       "      <td>0.0</td>\n",
       "      <td>1.0</td>\n",
       "      <td>1.0</td>\n",
       "      <td>0.0</td>\n",
       "    </tr>\n",
       "    <tr>\n",
       "      <th>4463</th>\n",
       "      <td>1.000000</td>\n",
       "      <td>1.000000</td>\n",
       "      <td>0.792683</td>\n",
       "      <td>0.847716</td>\n",
       "      <td>0.464286</td>\n",
       "      <td>0.347328</td>\n",
       "      <td>0.173469</td>\n",
       "      <td>0.166667</td>\n",
       "      <td>1.000000</td>\n",
       "      <td>0.0</td>\n",
       "      <td>0.0</td>\n",
       "      <td>1.0</td>\n",
       "      <td>0.0</td>\n",
       "      <td>0.0</td>\n",
       "      <td>1.0</td>\n",
       "      <td>1.0</td>\n",
       "      <td>0.0</td>\n",
       "    </tr>\n",
       "  </tbody>\n",
       "</table>\n",
       "<p>4464 rows × 17 columns</p>\n",
       "</div>"
      ],
      "text/plain": [
       "          자본금액      매출금액      영업이익     당기순이익   자산총합계금액   부채총합계금액      보증잔액  \\\n",
       "0     0.198895  0.611314  0.801829  0.829949  0.201190  0.255725  1.000000   \n",
       "1     0.198895  0.611314  0.801829  0.829949  0.201190  0.255725  1.000000   \n",
       "2     0.198895  0.611314  0.801829  0.829949  0.201190  0.255725  1.000000   \n",
       "3     0.198895  0.611314  0.801829  0.829949  0.201190  0.255725  1.000000   \n",
       "4     0.198895  0.611314  0.801829  0.829949  0.201190  0.255725  1.000000   \n",
       "...        ...       ...       ...       ...       ...       ...       ...   \n",
       "4459  1.000000  1.000000  0.792683  0.847716  0.464286  0.347328  1.000000   \n",
       "4460  1.000000  1.000000  0.792683  0.847716  0.464286  0.347328  0.173469   \n",
       "4461  1.000000  1.000000  0.792683  0.847716  0.464286  0.347328  0.173469   \n",
       "4462  1.000000  1.000000  0.792683  0.847716  0.464286  0.347328  0.173469   \n",
       "4463  1.000000  1.000000  0.792683  0.847716  0.464286  0.347328  0.173469   \n",
       "\n",
       "          예금평잔      대출평잔  x0_0명  x0_10명 이상 30명 미만  x0_1명 이상 5명 미만  \\\n",
       "0     0.444444  1.000000    0.0               0.0             1.0   \n",
       "1     0.444444  1.000000    0.0               0.0             1.0   \n",
       "2     0.444444  1.000000    0.0               0.0             1.0   \n",
       "3     0.444444  1.000000    0.0               0.0             1.0   \n",
       "4     0.000000  0.427586    0.0               0.0             1.0   \n",
       "...        ...       ...    ...               ...             ...   \n",
       "4459  0.166667  1.000000    0.0               0.0             1.0   \n",
       "4460  0.000000  0.131034    0.0               0.0             1.0   \n",
       "4461  0.000000  0.131034    0.0               0.0             1.0   \n",
       "4462  0.166667  1.000000    0.0               0.0             1.0   \n",
       "4463  0.166667  1.000000    0.0               0.0             1.0   \n",
       "\n",
       "      x0_5명 이상 10명 미만  x1_N  x1_Y  x2_N  x2_Y  \n",
       "0                 0.0   0.0   1.0   1.0   0.0  \n",
       "1                 0.0   0.0   1.0   1.0   0.0  \n",
       "2                 0.0   0.0   1.0   1.0   0.0  \n",
       "3                 0.0   0.0   1.0   1.0   0.0  \n",
       "4                 0.0   0.0   1.0   1.0   0.0  \n",
       "...               ...   ...   ...   ...   ...  \n",
       "4459              0.0   0.0   1.0   0.0   1.0  \n",
       "4460              0.0   0.0   1.0   1.0   0.0  \n",
       "4461              0.0   0.0   1.0   1.0   0.0  \n",
       "4462              0.0   0.0   1.0   1.0   0.0  \n",
       "4463              0.0   0.0   1.0   1.0   0.0  \n",
       "\n",
       "[4464 rows x 17 columns]"
      ]
     },
     "execution_count": 12,
     "metadata": {},
     "output_type": "execute_result"
    }
   ],
   "source": [
    "X = pd.concat([X_numeric, X_cat_ohe], axis = 1)\n",
    "X"
   ]
  },
  {
   "cell_type": "markdown",
   "id": "b641fb33",
   "metadata": {},
   "source": [
    "### 학습 데이터와 검증 데이터 분할"
   ]
  },
  {
   "cell_type": "code",
   "execution_count": 13,
   "id": "3a92887b",
   "metadata": {},
   "outputs": [],
   "source": [
    "from sklearn.model_selection import train_test_split"
   ]
  },
  {
   "cell_type": "code",
   "execution_count": 14,
   "id": "e94051f0",
   "metadata": {},
   "outputs": [],
   "source": [
    "X_train, X_test, y_train, y_test = train_test_split(X, y_numeric, random_state = 42)"
   ]
  },
  {
   "cell_type": "markdown",
   "id": "3ee0a749",
   "metadata": {},
   "source": [
    "### 선형회귀(LinearRegression)"
   ]
  },
  {
   "cell_type": "code",
   "execution_count": 15,
   "id": "91c716e1",
   "metadata": {},
   "outputs": [],
   "source": [
    "from sklearn.linear_model import LinearRegression"
   ]
  },
  {
   "cell_type": "code",
   "execution_count": 16,
   "id": "dbe651e9",
   "metadata": {},
   "outputs": [
    {
     "data": {
      "text/html": [
       "<style>#sk-container-id-1 {color: black;background-color: white;}#sk-container-id-1 pre{padding: 0;}#sk-container-id-1 div.sk-toggleable {background-color: white;}#sk-container-id-1 label.sk-toggleable__label {cursor: pointer;display: block;width: 100%;margin-bottom: 0;padding: 0.3em;box-sizing: border-box;text-align: center;}#sk-container-id-1 label.sk-toggleable__label-arrow:before {content: \"▸\";float: left;margin-right: 0.25em;color: #696969;}#sk-container-id-1 label.sk-toggleable__label-arrow:hover:before {color: black;}#sk-container-id-1 div.sk-estimator:hover label.sk-toggleable__label-arrow:before {color: black;}#sk-container-id-1 div.sk-toggleable__content {max-height: 0;max-width: 0;overflow: hidden;text-align: left;background-color: #f0f8ff;}#sk-container-id-1 div.sk-toggleable__content pre {margin: 0.2em;color: black;border-radius: 0.25em;background-color: #f0f8ff;}#sk-container-id-1 input.sk-toggleable__control:checked~div.sk-toggleable__content {max-height: 200px;max-width: 100%;overflow: auto;}#sk-container-id-1 input.sk-toggleable__control:checked~label.sk-toggleable__label-arrow:before {content: \"▾\";}#sk-container-id-1 div.sk-estimator input.sk-toggleable__control:checked~label.sk-toggleable__label {background-color: #d4ebff;}#sk-container-id-1 div.sk-label input.sk-toggleable__control:checked~label.sk-toggleable__label {background-color: #d4ebff;}#sk-container-id-1 input.sk-hidden--visually {border: 0;clip: rect(1px 1px 1px 1px);clip: rect(1px, 1px, 1px, 1px);height: 1px;margin: -1px;overflow: hidden;padding: 0;position: absolute;width: 1px;}#sk-container-id-1 div.sk-estimator {font-family: monospace;background-color: #f0f8ff;border: 1px dotted black;border-radius: 0.25em;box-sizing: border-box;margin-bottom: 0.5em;}#sk-container-id-1 div.sk-estimator:hover {background-color: #d4ebff;}#sk-container-id-1 div.sk-parallel-item::after {content: \"\";width: 100%;border-bottom: 1px solid gray;flex-grow: 1;}#sk-container-id-1 div.sk-label:hover label.sk-toggleable__label {background-color: #d4ebff;}#sk-container-id-1 div.sk-serial::before {content: \"\";position: absolute;border-left: 1px solid gray;box-sizing: border-box;top: 0;bottom: 0;left: 50%;z-index: 0;}#sk-container-id-1 div.sk-serial {display: flex;flex-direction: column;align-items: center;background-color: white;padding-right: 0.2em;padding-left: 0.2em;position: relative;}#sk-container-id-1 div.sk-item {position: relative;z-index: 1;}#sk-container-id-1 div.sk-parallel {display: flex;align-items: stretch;justify-content: center;background-color: white;position: relative;}#sk-container-id-1 div.sk-item::before, #sk-container-id-1 div.sk-parallel-item::before {content: \"\";position: absolute;border-left: 1px solid gray;box-sizing: border-box;top: 0;bottom: 0;left: 50%;z-index: -1;}#sk-container-id-1 div.sk-parallel-item {display: flex;flex-direction: column;z-index: 1;position: relative;background-color: white;}#sk-container-id-1 div.sk-parallel-item:first-child::after {align-self: flex-end;width: 50%;}#sk-container-id-1 div.sk-parallel-item:last-child::after {align-self: flex-start;width: 50%;}#sk-container-id-1 div.sk-parallel-item:only-child::after {width: 0;}#sk-container-id-1 div.sk-dashed-wrapped {border: 1px dashed gray;margin: 0 0.4em 0.5em 0.4em;box-sizing: border-box;padding-bottom: 0.4em;background-color: white;}#sk-container-id-1 div.sk-label label {font-family: monospace;font-weight: bold;display: inline-block;line-height: 1.2em;}#sk-container-id-1 div.sk-label-container {text-align: center;}#sk-container-id-1 div.sk-container {/* jupyter's `normalize.less` sets `[hidden] { display: none; }` but bootstrap.min.css set `[hidden] { display: none !important; }` so we also need the `!important` here to be able to override the default hidden behavior on the sphinx rendered scikit-learn.org. See: https://github.com/scikit-learn/scikit-learn/issues/21755 */display: inline-block !important;position: relative;}#sk-container-id-1 div.sk-text-repr-fallback {display: none;}</style><div id=\"sk-container-id-1\" class=\"sk-top-container\"><div class=\"sk-text-repr-fallback\"><pre>LinearRegression()</pre><b>In a Jupyter environment, please rerun this cell to show the HTML representation or trust the notebook. <br />On GitHub, the HTML representation is unable to render, please try loading this page with nbviewer.org.</b></div><div class=\"sk-container\" hidden><div class=\"sk-item\"><div class=\"sk-estimator sk-toggleable\"><input class=\"sk-toggleable__control sk-hidden--visually\" id=\"sk-estimator-id-1\" type=\"checkbox\" checked><label for=\"sk-estimator-id-1\" class=\"sk-toggleable__label sk-toggleable__label-arrow\">LinearRegression</label><div class=\"sk-toggleable__content\"><pre>LinearRegression()</pre></div></div></div></div></div>"
      ],
      "text/plain": [
       "LinearRegression()"
      ]
     },
     "execution_count": 16,
     "metadata": {},
     "output_type": "execute_result"
    }
   ],
   "source": [
    "model = LinearRegression()\n",
    "model.fit(X_train, y_train)"
   ]
  },
  {
   "cell_type": "code",
   "execution_count": 17,
   "id": "2ffd7e7b",
   "metadata": {},
   "outputs": [],
   "source": [
    "y_train_pred = model.predict(X_train)\n",
    "y_test_pred = model.predict(X_test)"
   ]
  },
  {
   "cell_type": "markdown",
   "id": "4fa3494f",
   "metadata": {},
   "source": [
    "### y('신용평가등급명')에 대한 변수들의 상관성 확인"
   ]
  },
  {
   "cell_type": "code",
   "execution_count": 18,
   "id": "229ef8c5",
   "metadata": {},
   "outputs": [
    {
     "data": {
      "text/html": [
       "<div>\n",
       "<style scoped>\n",
       "    .dataframe tbody tr th:only-of-type {\n",
       "        vertical-align: middle;\n",
       "    }\n",
       "\n",
       "    .dataframe tbody tr th {\n",
       "        vertical-align: top;\n",
       "    }\n",
       "\n",
       "    .dataframe thead th {\n",
       "        text-align: right;\n",
       "    }\n",
       "</style>\n",
       "<table border=\"1\" class=\"dataframe\">\n",
       "  <thead>\n",
       "    <tr style=\"text-align: right;\">\n",
       "      <th></th>\n",
       "      <th>자본금액</th>\n",
       "      <th>매출금액</th>\n",
       "      <th>영업이익</th>\n",
       "      <th>당기순이익</th>\n",
       "      <th>자산총합계금액</th>\n",
       "      <th>부채총합계금액</th>\n",
       "      <th>보증잔액</th>\n",
       "      <th>예금평잔</th>\n",
       "      <th>대출평잔</th>\n",
       "      <th>x0_0명</th>\n",
       "      <th>x0_10명 이상 30명 미만</th>\n",
       "      <th>x0_1명 이상 5명 미만</th>\n",
       "      <th>x0_5명 이상 10명 미만</th>\n",
       "      <th>x1_N</th>\n",
       "      <th>x1_Y</th>\n",
       "      <th>x2_N</th>\n",
       "      <th>x2_Y</th>\n",
       "    </tr>\n",
       "  </thead>\n",
       "  <tbody>\n",
       "    <tr>\n",
       "      <th>0</th>\n",
       "      <td>0.074269</td>\n",
       "      <td>0.247273</td>\n",
       "      <td>-0.540591</td>\n",
       "      <td>1.136091</td>\n",
       "      <td>-0.777728</td>\n",
       "      <td>0.06581</td>\n",
       "      <td>0.054695</td>\n",
       "      <td>-0.11519</td>\n",
       "      <td>0.160205</td>\n",
       "      <td>-8.997832e+12</td>\n",
       "      <td>-8.997832e+12</td>\n",
       "      <td>-8.997832e+12</td>\n",
       "      <td>-8.997832e+12</td>\n",
       "      <td>2.029180e+11</td>\n",
       "      <td>2.029180e+11</td>\n",
       "      <td>2.152355e+11</td>\n",
       "      <td>2.152355e+11</td>\n",
       "    </tr>\n",
       "  </tbody>\n",
       "</table>\n",
       "</div>"
      ],
      "text/plain": [
       "       자본금액      매출금액      영업이익     당기순이익   자산총합계금액  부채총합계금액      보증잔액  \\\n",
       "0  0.074269  0.247273 -0.540591  1.136091 -0.777728  0.06581  0.054695   \n",
       "\n",
       "      예금평잔      대출평잔         x0_0명  x0_10명 이상 30명 미만  x0_1명 이상 5명 미만  \\\n",
       "0 -0.11519  0.160205 -8.997832e+12     -8.997832e+12   -8.997832e+12   \n",
       "\n",
       "   x0_5명 이상 10명 미만          x1_N          x1_Y          x2_N          x2_Y  \n",
       "0    -8.997832e+12  2.029180e+11  2.029180e+11  2.152355e+11  2.152355e+11  "
      ]
     },
     "execution_count": 18,
     "metadata": {},
     "output_type": "execute_result"
    }
   ],
   "source": [
    "pd.DataFrame([list(model.coef_)], columns = X_train.columns)"
   ]
  },
  {
   "cell_type": "markdown",
   "id": "88652a7d",
   "metadata": {},
   "source": [
    "### 선형회귀의 결정계수 확인\n",
    "\n",
    "##### 결정계수 : 회귀식이 y를 얼마나 잘 설명하는가를 수치화한 것\n",
    "\n",
    "###### 1에 가까울수록 정확한 회귀식이 된다"
   ]
  },
  {
   "cell_type": "code",
   "execution_count": 19,
   "id": "7310acbe",
   "metadata": {},
   "outputs": [],
   "source": [
    "from sklearn.metrics import r2_score"
   ]
  },
  {
   "cell_type": "code",
   "execution_count": 20,
   "id": "7fe1e6f3",
   "metadata": {},
   "outputs": [
    {
     "data": {
      "text/plain": [
       "0.18087635962280468"
      ]
     },
     "execution_count": 20,
     "metadata": {},
     "output_type": "execute_result"
    }
   ],
   "source": [
    "r2_score(y_test, y_test_pred)"
   ]
  }
 ],
 "metadata": {
  "kernelspec": {
   "display_name": "python3_9_15",
   "language": "python",
   "name": "tf_gpu"
  },
  "language_info": {
   "codemirror_mode": {
    "name": "ipython",
    "version": 3
   },
   "file_extension": ".py",
   "mimetype": "text/x-python",
   "name": "python",
   "nbconvert_exporter": "python",
   "pygments_lexer": "ipython3",
   "version": "3.9.15"
  }
 },
 "nbformat": 4,
 "nbformat_minor": 5
}
