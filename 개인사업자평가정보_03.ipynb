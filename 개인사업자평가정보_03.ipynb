{
 "cells": [
  {
   "cell_type": "markdown",
   "id": "88513447",
   "metadata": {},
   "source": [
    "# 공공데이터포털에서 API를 통해 개인사업자평가정보를 가져옴"
   ]
  },
  {
   "cell_type": "code",
   "execution_count": 1,
   "id": "474b69fa",
   "metadata": {},
   "outputs": [],
   "source": [
    "import pandas as pd\n",
    "from pandas import json_normalize # json 형태의 데이터를 DataFrame으로 변환해주는 패키지\n",
    "import requests # API 정보를 가져오기 위한 패키지\n",
    "import json # json 형태의 데이터를 읽기 위한 패키지"
   ]
  },
  {
   "cell_type": "code",
   "execution_count": 2,
   "id": "1c7aab2f",
   "metadata": {},
   "outputs": [
    {
     "name": "stderr",
     "output_type": "stream",
     "text": [
      "C:\\Users\\DMC CONET\\miniconda3\\envs\\tf_gpu\\lib\\site-packages\\urllib3\\connectionpool.py:1045: InsecureRequestWarning: Unverified HTTPS request is being made to host 'apis.data.go.kr'. Adding certificate verification is strongly advised. See: https://urllib3.readthedocs.io/en/1.26.x/advanced-usage.html#ssl-warnings\n",
      "  warnings.warn(\n"
     ]
    },
    {
     "data": {
      "text/plain": [
       "Index(['basYm', 'rprSexNm', 'rprAggrNm', 'estbYr', 'bizAreaNm', 'bizBzcCd',\n",
       "       'bizBzcCdNm', 'empeCntNm', 'crEvlGdNm'],\n",
       "      dtype='object')"
      ]
     },
     "execution_count": 2,
     "metadata": {},
     "output_type": "execute_result"
    }
   ],
   "source": [
    "# 공공데이터포털에 API 형태의 데이터를 요청(requests.get())\n",
    "requestData = requests.get('https://apis.data.go.kr/1160100/service/GetSBCreditInfoService/getEvlInfo?serviceKey=DTSWD835IYOcHhgfdt0U49Lf3KjL5uUDHTfRQTCCEpwlQDihiHDdwBgjhkj7PrbBPeFweBXMcO9cK4IDvsQPYA%3D%3D&pageNo=1&numOfRows=5000&resultType=json', verify = False)\n",
    "# API로 받아온 데이터의 내용을 추출해 contents에 저장\n",
    "contents = requestData.text\n",
    "# json 패키지의 loads()함수를 이용해 파이썬이 읽을 수 있는 자료형으로 만듦\n",
    "data = json.loads(contents)\n",
    "# 개인사업자재무정보.ipynb 파일 참조\n",
    "stat = data['response']['body']['items']['item']\n",
    "# json_normalize()함수를 통해 DataFrame으로 변환\n",
    "df = json_normalize(stat)\n",
    "df.columns"
   ]
  },
  {
   "cell_type": "code",
   "execution_count": 3,
   "id": "dcf687ee",
   "metadata": {},
   "outputs": [],
   "source": [
    "df.rename(columns = {'basYm' : '기준년월', 'rprSexNm' : '대표자성별명', 'rprAggrNm' : '대표자연령대명', 'estbYr' : '설립년도', 'bizAreaNm' : '사업지역명', 'bizBzcCd' : '사업업종코드',\n",
    "       'bizBzcCdNm' : '사업업종명', 'empeCntNm' : '종업원수구분명', 'grnBal' : '보증잔액', 'wrkfndLoanYn' : '운전자금대출여부', 'fctfndLoanYn' : '시설자금대출여부', 'crEvlGdNm' : '신용평가등급명'}, inplace = True)"
   ]
  },
  {
   "cell_type": "code",
   "execution_count": 4,
   "id": "52ef4f60",
   "metadata": {},
   "outputs": [
    {
     "name": "stdout",
     "output_type": "stream",
     "text": [
      "<class 'pandas.core.frame.DataFrame'>\n",
      "RangeIndex: 5000 entries, 0 to 4999\n",
      "Data columns (total 9 columns):\n",
      " #   Column   Non-Null Count  Dtype \n",
      "---  ------   --------------  ----- \n",
      " 0   기준년월     5000 non-null   object\n",
      " 1   대표자성별명   5000 non-null   object\n",
      " 2   대표자연령대명  5000 non-null   object\n",
      " 3   설립년도     5000 non-null   object\n",
      " 4   사업지역명    5000 non-null   object\n",
      " 5   사업업종코드   5000 non-null   object\n",
      " 6   사업업종명    5000 non-null   object\n",
      " 7   종업원수구분명  5000 non-null   object\n",
      " 8   신용평가등급명  5000 non-null   object\n",
      "dtypes: object(9)\n",
      "memory usage: 351.7+ KB\n"
     ]
    }
   ],
   "source": [
    "df.info()"
   ]
  },
  {
   "cell_type": "markdown",
   "id": "4ea37f9e",
   "metadata": {},
   "source": [
    "# 다른 페이지의 정보를 가져오기 위한 코드"
   ]
  },
  {
   "cell_type": "code",
   "execution_count": 5,
   "id": "82c231ce",
   "metadata": {},
   "outputs": [
    {
     "name": "stderr",
     "output_type": "stream",
     "text": [
      "C:\\Users\\DMC CONET\\miniconda3\\envs\\tf_gpu\\lib\\site-packages\\urllib3\\connectionpool.py:1045: InsecureRequestWarning: Unverified HTTPS request is being made to host 'apis.data.go.kr'. Adding certificate verification is strongly advised. See: https://urllib3.readthedocs.io/en/1.26.x/advanced-usage.html#ssl-warnings\n",
      "  warnings.warn(\n"
     ]
    },
    {
     "data": {
      "text/plain": [
       "Index(['basYm', 'rprSexNm', 'rprAggrNm', 'estbYr', 'bizAreaNm', 'bizBzcCd',\n",
       "       'bizBzcCdNm', 'empeCntNm', 'crEvlGdNm'],\n",
       "      dtype='object')"
      ]
     },
     "execution_count": 5,
     "metadata": {},
     "output_type": "execute_result"
    }
   ],
   "source": [
    "# requests.get() 내의 주소 중 pageNo 값만 변경\n",
    "requestData = requests.get('https://apis.data.go.kr/1160100/service/GetSBCreditInfoService/getEvlInfo?serviceKey=DTSWD835IYOcHhgfdt0U49Lf3KjL5uUDHTfRQTCCEpwlQDihiHDdwBgjhkj7PrbBPeFweBXMcO9cK4IDvsQPYA%3D%3D&pageNo=10&numOfRows=5000&resultType=json', verify = False)\n",
    "\n",
    "contents = requestData.text\n",
    "\n",
    "data = json.loads(contents)\n",
    "\n",
    "stat = data['response']['body']['items']['item']\n",
    "\n",
    "df2 = json_normalize(stat)\n",
    "df2.columns"
   ]
  },
  {
   "cell_type": "code",
   "execution_count": 6,
   "id": "7ef635d2",
   "metadata": {},
   "outputs": [],
   "source": [
    "df2.rename(columns = {'basYm' : '기준년월', 'rprSexNm' : '대표자성별명', 'rprAggrNm' : '대표자연령대명', 'estbYr' : '설립년도', 'bizAreaNm' : '사업지역명', 'bizBzcCd' : '사업업종코드',\n",
    "       'bizBzcCdNm' : '사업업종명', 'empeCntNm' : '종업원수구분명', 'grnBal' : '보증잔액', 'wrkfndLoanYn' : '운전자금대출여부', 'fctfndLoanYn' : '시설자금대출여부', 'crEvlGdNm' : '신용평가등급명'}, inplace = True)"
   ]
  },
  {
   "cell_type": "code",
   "execution_count": 7,
   "id": "da2f27a0",
   "metadata": {},
   "outputs": [
    {
     "name": "stdout",
     "output_type": "stream",
     "text": [
      "<class 'pandas.core.frame.DataFrame'>\n",
      "RangeIndex: 5000 entries, 0 to 4999\n",
      "Data columns (total 9 columns):\n",
      " #   Column   Non-Null Count  Dtype \n",
      "---  ------   --------------  ----- \n",
      " 0   기준년월     5000 non-null   object\n",
      " 1   대표자성별명   5000 non-null   object\n",
      " 2   대표자연령대명  5000 non-null   object\n",
      " 3   설립년도     5000 non-null   object\n",
      " 4   사업지역명    5000 non-null   object\n",
      " 5   사업업종코드   5000 non-null   object\n",
      " 6   사업업종명    5000 non-null   object\n",
      " 7   종업원수구분명  5000 non-null   object\n",
      " 8   신용평가등급명  5000 non-null   object\n",
      "dtypes: object(9)\n",
      "memory usage: 351.7+ KB\n"
     ]
    }
   ],
   "source": [
    "df2.info()"
   ]
  },
  {
   "cell_type": "markdown",
   "id": "78d7b1a2",
   "metadata": {},
   "source": [
    "# 두 페이지에서 가져온 데이터를 합쳐 csv파일로 저장"
   ]
  },
  {
   "cell_type": "code",
   "execution_count": 8,
   "id": "8b679464",
   "metadata": {},
   "outputs": [],
   "source": [
    "# 두 개의 DataFrame의 column 형태가 같으므로 pd.concat()함수를 통해 바로 합침\n",
    "df3 = pd.concat([df, df2])"
   ]
  },
  {
   "cell_type": "code",
   "execution_count": 9,
   "id": "bab36034",
   "metadata": {},
   "outputs": [
    {
     "name": "stdout",
     "output_type": "stream",
     "text": [
      "<class 'pandas.core.frame.DataFrame'>\n",
      "Int64Index: 10000 entries, 0 to 4999\n",
      "Data columns (total 9 columns):\n",
      " #   Column   Non-Null Count  Dtype \n",
      "---  ------   --------------  ----- \n",
      " 0   기준년월     10000 non-null  object\n",
      " 1   대표자성별명   10000 non-null  object\n",
      " 2   대표자연령대명  10000 non-null  object\n",
      " 3   설립년도     10000 non-null  object\n",
      " 4   사업지역명    10000 non-null  object\n",
      " 5   사업업종코드   10000 non-null  object\n",
      " 6   사업업종명    10000 non-null  object\n",
      " 7   종업원수구분명  10000 non-null  object\n",
      " 8   신용평가등급명  10000 non-null  object\n",
      "dtypes: object(9)\n",
      "memory usage: 781.2+ KB\n"
     ]
    }
   ],
   "source": [
    "df3.info()"
   ]
  },
  {
   "cell_type": "code",
   "execution_count": 10,
   "id": "bb3071b1",
   "metadata": {},
   "outputs": [],
   "source": [
    "# to_csv 함수를 통해 csv파일로 저장\n",
    "# sep = ',' -> csv(comma seperated values)이므로 구분자는 ','\n",
    "# na_rep = 'NaN' -> DataFrame의 결측값을 어떻게 저장할지 지정해주는 옵션\n",
    "# encoding = 'utf-8-sig' -> csv파일을 저장할 때 한글이 있다면 'utf-8-sig'로 지정해줘야 함\n",
    "df.to_csv('C:\\\\Users\\\\DMC CONET\\\\Documents\\\\python\\\\project1\\\\data\\\\개인사업자평가정보.csv', sep = ',', na_rep = 'NaN', encoding = 'utf-8-sig')"
   ]
  }
 ],
 "metadata": {
  "kernelspec": {
   "display_name": "python3_9_15",
   "language": "python",
   "name": "tf_gpu"
  },
  "language_info": {
   "codemirror_mode": {
    "name": "ipython",
    "version": 3
   },
   "file_extension": ".py",
   "mimetype": "text/x-python",
   "name": "python",
   "nbconvert_exporter": "python",
   "pygments_lexer": "ipython3",
   "version": "3.9.15"
  }
 },
 "nbformat": 4,
 "nbformat_minor": 5
}
