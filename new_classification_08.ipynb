{
 "cells": [
  {
   "cell_type": "code",
   "execution_count": 1,
   "id": "a0ed350b",
   "metadata": {},
   "outputs": [],
   "source": [
    "import pandas as pd\n",
    "import matplotlib as mpl\n",
    "import matplotlib.pyplot as plt\n",
    "import seaborn as sns\n",
    "\n",
    "mpl.rc('font', family='Malgun Gothic')"
   ]
  },
  {
   "cell_type": "code",
   "execution_count": 2,
   "id": "b95f32e4",
   "metadata": {},
   "outputs": [],
   "source": [
    "df = pd.read_csv('C:\\\\Users\\\\DMC CONET\\\\Documents\\\\python\\\\project1\\\\data\\\\종합데이터.csv', index_col = 0)"
   ]
  },
  {
   "cell_type": "code",
   "execution_count": 3,
   "id": "400555c1",
   "metadata": {},
   "outputs": [
    {
     "data": {
      "text/plain": [
       "Index(['기준년월', '대표자성별명', '대표자연령대명', '설립년도', '사업지역명', '사업업종코드', '사업업종명',\n",
       "       '종업원수구분명', '재무기준년도', '자본금액', '매출금액', '영업이익', '당기순이익', '자산총합계금액',\n",
       "       '부채총합계금액', '보증잔액', '운전자금대출여부', '시설자금대출여부', '예금평잔', '대출평잔', '신용평가등급명'],\n",
       "      dtype='object')"
      ]
     },
     "execution_count": 3,
     "metadata": {},
     "output_type": "execute_result"
    }
   ],
   "source": [
    "df.columns"
   ]
  },
  {
   "cell_type": "code",
   "execution_count": 4,
   "id": "02fbf1a0",
   "metadata": {},
   "outputs": [
    {
     "data": {
      "text/html": [
       "<div>\n",
       "<style scoped>\n",
       "    .dataframe tbody tr th:only-of-type {\n",
       "        vertical-align: middle;\n",
       "    }\n",
       "\n",
       "    .dataframe tbody tr th {\n",
       "        vertical-align: top;\n",
       "    }\n",
       "\n",
       "    .dataframe thead th {\n",
       "        text-align: right;\n",
       "    }\n",
       "</style>\n",
       "<table border=\"1\" class=\"dataframe\">\n",
       "  <thead>\n",
       "    <tr style=\"text-align: right;\">\n",
       "      <th></th>\n",
       "      <th>기준년월</th>\n",
       "      <th>설립년도</th>\n",
       "      <th>사업업종코드</th>\n",
       "      <th>재무기준년도</th>\n",
       "      <th>자본금액</th>\n",
       "      <th>매출금액</th>\n",
       "      <th>영업이익</th>\n",
       "      <th>당기순이익</th>\n",
       "      <th>자산총합계금액</th>\n",
       "      <th>부채총합계금액</th>\n",
       "      <th>보증잔액</th>\n",
       "      <th>예금평잔</th>\n",
       "      <th>대출평잔</th>\n",
       "    </tr>\n",
       "  </thead>\n",
       "  <tbody>\n",
       "    <tr>\n",
       "      <th>count</th>\n",
       "      <td>4464.0</td>\n",
       "      <td>4464.000000</td>\n",
       "      <td>4464.000000</td>\n",
       "      <td>4464.000000</td>\n",
       "      <td>4.464000e+03</td>\n",
       "      <td>4.464000e+03</td>\n",
       "      <td>4.464000e+03</td>\n",
       "      <td>4.464000e+03</td>\n",
       "      <td>4.464000e+03</td>\n",
       "      <td>4.464000e+03</td>\n",
       "      <td>4.464000e+03</td>\n",
       "      <td>4.464000e+03</td>\n",
       "      <td>4.464000e+03</td>\n",
       "    </tr>\n",
       "    <tr>\n",
       "      <th>mean</th>\n",
       "      <td>202208.0</td>\n",
       "      <td>2012.945789</td>\n",
       "      <td>46.866039</td>\n",
       "      <td>2020.417787</td>\n",
       "      <td>8.823320e+07</td>\n",
       "      <td>7.737377e+08</td>\n",
       "      <td>5.006183e+07</td>\n",
       "      <td>4.552375e+07</td>\n",
       "      <td>3.538914e+08</td>\n",
       "      <td>2.169214e+08</td>\n",
       "      <td>6.960618e+07</td>\n",
       "      <td>4.936828e+06</td>\n",
       "      <td>7.779547e+07</td>\n",
       "    </tr>\n",
       "    <tr>\n",
       "      <th>std</th>\n",
       "      <td>0.0</td>\n",
       "      <td>6.489221</td>\n",
       "      <td>8.193436</td>\n",
       "      <td>0.955406</td>\n",
       "      <td>6.433402e+07</td>\n",
       "      <td>3.482221e+08</td>\n",
       "      <td>3.585087e+07</td>\n",
       "      <td>3.264066e+07</td>\n",
       "      <td>2.814946e+08</td>\n",
       "      <td>1.941926e+08</td>\n",
       "      <td>3.483926e+07</td>\n",
       "      <td>6.432785e+06</td>\n",
       "      <td>4.867617e+07</td>\n",
       "    </tr>\n",
       "    <tr>\n",
       "      <th>min</th>\n",
       "      <td>202208.0</td>\n",
       "      <td>1982.000000</td>\n",
       "      <td>10.000000</td>\n",
       "      <td>2015.000000</td>\n",
       "      <td>0.000000e+00</td>\n",
       "      <td>0.000000e+00</td>\n",
       "      <td>-2.290000e+08</td>\n",
       "      <td>-3.080000e+08</td>\n",
       "      <td>1.000000e+06</td>\n",
       "      <td>0.000000e+00</td>\n",
       "      <td>3.000000e+06</td>\n",
       "      <td>0.000000e+00</td>\n",
       "      <td>1.000000e+06</td>\n",
       "    </tr>\n",
       "    <tr>\n",
       "      <th>25%</th>\n",
       "      <td>202208.0</td>\n",
       "      <td>2010.000000</td>\n",
       "      <td>46.000000</td>\n",
       "      <td>2020.000000</td>\n",
       "      <td>3.300000e+07</td>\n",
       "      <td>4.260000e+08</td>\n",
       "      <td>2.200000e+07</td>\n",
       "      <td>2.500000e+07</td>\n",
       "      <td>1.150000e+08</td>\n",
       "      <td>5.000000e+07</td>\n",
       "      <td>3.400000e+07</td>\n",
       "      <td>0.000000e+00</td>\n",
       "      <td>3.000000e+07</td>\n",
       "    </tr>\n",
       "    <tr>\n",
       "      <th>50%</th>\n",
       "      <td>202208.0</td>\n",
       "      <td>2016.000000</td>\n",
       "      <td>46.000000</td>\n",
       "      <td>2021.000000</td>\n",
       "      <td>8.500000e+07</td>\n",
       "      <td>8.850000e+08</td>\n",
       "      <td>4.800000e+07</td>\n",
       "      <td>4.300000e+07</td>\n",
       "      <td>2.520000e+08</td>\n",
       "      <td>1.520000e+08</td>\n",
       "      <td>9.000000e+07</td>\n",
       "      <td>1.000000e+06</td>\n",
       "      <td>8.000000e+07</td>\n",
       "    </tr>\n",
       "    <tr>\n",
       "      <th>75%</th>\n",
       "      <td>202208.0</td>\n",
       "      <td>2018.000000</td>\n",
       "      <td>47.000000</td>\n",
       "      <td>2021.000000</td>\n",
       "      <td>1.380000e+08</td>\n",
       "      <td>1.096000e+09</td>\n",
       "      <td>7.800000e+07</td>\n",
       "      <td>7.900000e+07</td>\n",
       "      <td>5.670000e+08</td>\n",
       "      <td>4.340000e+08</td>\n",
       "      <td>1.010000e+08</td>\n",
       "      <td>8.000000e+06</td>\n",
       "      <td>1.105000e+08</td>\n",
       "    </tr>\n",
       "    <tr>\n",
       "      <th>max</th>\n",
       "      <td>202208.0</td>\n",
       "      <td>2020.000000</td>\n",
       "      <td>96.000000</td>\n",
       "      <td>2021.000000</td>\n",
       "      <td>1.810000e+08</td>\n",
       "      <td>1.096000e+09</td>\n",
       "      <td>9.900000e+07</td>\n",
       "      <td>8.600000e+07</td>\n",
       "      <td>8.410000e+08</td>\n",
       "      <td>5.240000e+08</td>\n",
       "      <td>1.010000e+08</td>\n",
       "      <td>1.800000e+07</td>\n",
       "      <td>1.460000e+08</td>\n",
       "    </tr>\n",
       "  </tbody>\n",
       "</table>\n",
       "</div>"
      ],
      "text/plain": [
       "           기준년월         설립년도       사업업종코드       재무기준년도          자본금액  \\\n",
       "count    4464.0  4464.000000  4464.000000  4464.000000  4.464000e+03   \n",
       "mean   202208.0  2012.945789    46.866039  2020.417787  8.823320e+07   \n",
       "std         0.0     6.489221     8.193436     0.955406  6.433402e+07   \n",
       "min    202208.0  1982.000000    10.000000  2015.000000  0.000000e+00   \n",
       "25%    202208.0  2010.000000    46.000000  2020.000000  3.300000e+07   \n",
       "50%    202208.0  2016.000000    46.000000  2021.000000  8.500000e+07   \n",
       "75%    202208.0  2018.000000    47.000000  2021.000000  1.380000e+08   \n",
       "max    202208.0  2020.000000    96.000000  2021.000000  1.810000e+08   \n",
       "\n",
       "               매출금액          영업이익         당기순이익       자산총합계금액       부채총합계금액  \\\n",
       "count  4.464000e+03  4.464000e+03  4.464000e+03  4.464000e+03  4.464000e+03   \n",
       "mean   7.737377e+08  5.006183e+07  4.552375e+07  3.538914e+08  2.169214e+08   \n",
       "std    3.482221e+08  3.585087e+07  3.264066e+07  2.814946e+08  1.941926e+08   \n",
       "min    0.000000e+00 -2.290000e+08 -3.080000e+08  1.000000e+06  0.000000e+00   \n",
       "25%    4.260000e+08  2.200000e+07  2.500000e+07  1.150000e+08  5.000000e+07   \n",
       "50%    8.850000e+08  4.800000e+07  4.300000e+07  2.520000e+08  1.520000e+08   \n",
       "75%    1.096000e+09  7.800000e+07  7.900000e+07  5.670000e+08  4.340000e+08   \n",
       "max    1.096000e+09  9.900000e+07  8.600000e+07  8.410000e+08  5.240000e+08   \n",
       "\n",
       "               보증잔액          예금평잔          대출평잔  \n",
       "count  4.464000e+03  4.464000e+03  4.464000e+03  \n",
       "mean   6.960618e+07  4.936828e+06  7.779547e+07  \n",
       "std    3.483926e+07  6.432785e+06  4.867617e+07  \n",
       "min    3.000000e+06  0.000000e+00  1.000000e+06  \n",
       "25%    3.400000e+07  0.000000e+00  3.000000e+07  \n",
       "50%    9.000000e+07  1.000000e+06  8.000000e+07  \n",
       "75%    1.010000e+08  8.000000e+06  1.105000e+08  \n",
       "max    1.010000e+08  1.800000e+07  1.460000e+08  "
      ]
     },
     "execution_count": 4,
     "metadata": {},
     "output_type": "execute_result"
    }
   ],
   "source": [
    "df.describe()"
   ]
  },
  {
   "cell_type": "code",
   "execution_count": 5,
   "id": "a07ec4d4",
   "metadata": {},
   "outputs": [],
   "source": [
    "# XGBoost 알고리즘이 지원하는 feature_importance를 통해 추출한 가중치를 바탕으로 계산한 신용점수\n",
    "df['신용점수'] = ((- 7.22 * df['대출평잔'] +7.03 * df['자산총합계금액'] \\\n",
    "                    - 6.99 * df['부채총합계금액'] + 6.72 * df['영업이익'] \\\n",
    "                    + 6.11 * df['매출금액'] + 5.30 * df['예금평잔']) / 5000000) + 200"
   ]
  },
  {
   "cell_type": "code",
   "execution_count": 6,
   "id": "ba7a66fa",
   "metadata": {},
   "outputs": [
    {
     "data": {
      "text/plain": [
       "<AxesSubplot: xlabel='신용점수', ylabel='Count'>"
      ]
     },
     "execution_count": 6,
     "metadata": {},
     "output_type": "execute_result"
    },
    {
     "data": {
      "image/png": "[encoded data removed]",
      "text/plain": [
       "<Figure size 640x480 with 1 Axes>"
      ]
     },
     "metadata": {},
     "output_type": "display_data"
    }
   ],
   "source": [
    "sns.histplot(data = df, x = '신용점수')"
   ]
  },
  {
   "cell_type": "code",
   "execution_count": 7,
   "id": "35bf478a",
   "metadata": {},
   "outputs": [],
   "source": [
    "# 실제 신용등급 분포와 비슷하도록 조정"
   ]
  },
  {
   "cell_type": "code",
   "execution_count": 8,
   "id": "136d5188",
   "metadata": {},
   "outputs": [],
   "source": [
    "std = df['신용점수'].std()\n",
    "mean = df['신용점수'].mean()"
   ]
  },
  {
   "cell_type": "code",
   "execution_count": 9,
   "id": "dda1fd11",
   "metadata": {},
   "outputs": [],
   "source": [
    "cond1 = mean - 0.8 * std\n",
    "cond2 = mean + 0.3 * std\n",
    "cond3 = mean + 0.7 * std\n",
    "cond4 = mean + 1.25 * std\n",
    "\n",
    "df.loc[df['신용점수'] <= cond1, '신용등급'] = 'E'\n",
    "df.loc[(df['신용점수']> cond1) & (df['신용점수'] <= cond2), '신용등급'] = 'D'\n",
    "df.loc[(df['신용점수']> cond2) & (df['신용점수'] <= cond3), '신용등급'] = 'C'\n",
    "df.loc[(df['신용점수']> cond3) & (df['신용점수'] <= cond4), '신용등급'] = 'B'\n",
    "df.loc[df['신용점수'] > cond4, '신용등급'] = 'A'"
   ]
  },
  {
   "cell_type": "code",
   "execution_count": 10,
   "id": "3ac83f82",
   "metadata": {},
   "outputs": [
    {
     "data": {
      "text/plain": [
       "E    1133\n",
       "C    1124\n",
       "D    1091\n",
       "B     807\n",
       "A     309\n",
       "Name: 신용등급, dtype: int64"
      ]
     },
     "execution_count": 10,
     "metadata": {},
     "output_type": "execute_result"
    }
   ],
   "source": [
    "df['신용등급'].value_counts()"
   ]
  },
  {
   "cell_type": "code",
   "execution_count": 11,
   "id": "e0c5123a",
   "metadata": {},
   "outputs": [
    {
     "data": {
      "text/plain": [
       "<AxesSubplot: xlabel='신용등급', ylabel='Count'>"
      ]
     },
     "execution_count": 11,
     "metadata": {},
     "output_type": "execute_result"
    },
    {
     "data": {
      "image/png": "[encoded data removed]",
      "text/plain": [
       "<Figure size 640x480 with 1 Axes>"
      ]
     },
     "metadata": {},
     "output_type": "display_data"
    }
   ],
   "source": [
    "sns.histplot(data = df.sort_values(by = '신용등급', ascending = False), x = '신용등급')"
   ]
  },
  {
   "cell_type": "code",
   "execution_count": 12,
   "id": "f33aaf3f",
   "metadata": {},
   "outputs": [],
   "source": [
    "df.to_csv('C:/Users/DMC CONET/Documents/python/project1/data/종합데이터(수정).csv', encoding = 'utf-8-sig')"
   ]
  }
 ],
 "metadata": {
  "kernelspec": {
   "display_name": "python3_9_15",
   "language": "python",
   "name": "tf_gpu"
  },
  "language_info": {
   "codemirror_mode": {
    "name": "ipython",
    "version": 3
   },
   "file_extension": ".py",
   "mimetype": "text/x-python",
   "name": "python",
   "nbconvert_exporter": "python",
   "pygments_lexer": "ipython3",
   "version": "3.9.15"
  }
 },
 "nbformat": 4,
 "nbformat_minor": 5
}
