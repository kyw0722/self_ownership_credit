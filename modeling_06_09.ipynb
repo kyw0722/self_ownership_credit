{
 "cells": [
  {
   "cell_type": "markdown",
   "id": "853bf3ad",
   "metadata": {},
   "source": [
    "# Modeling"
   ]
  },
  {
   "cell_type": "code",
   "execution_count": 1,
   "id": "d3aea1c2",
   "metadata": {},
   "outputs": [],
   "source": [
    "import pandas as pd\n",
    "import matplotlib as mpl\n",
    "import matplotlib.pyplot as plt\n",
    "import seaborn as sns\n",
    "\n",
    "mpl.rc('font', family='Malgun Gothic')"
   ]
  },
  {
   "cell_type": "markdown",
   "id": "531759aa",
   "metadata": {},
   "source": [
    "### 모델(XGBClassifier)을 통해 나온 가중치로 재분류\n",
    "\n",
    "##### modeling_06_09인 이유\n",
    "##### 선형회귀(05)를 통해 가중치를 정해 모델링을 수행하려 했으나 결정계수가 좋지 않았음(0.18)\n",
    "##### 따라서 모델링을 수행(06)한 뒤 feature_importance(06) 및 feature_correlation(07)을 통해\n",
    "##### 신용등급을 재분류(08)한 뒤 최종 모델을 선정(09)"
   ]
  },
  {
   "cell_type": "code",
   "execution_count": 2,
   "id": "d0035c8c",
   "metadata": {},
   "outputs": [],
   "source": [
    "df = pd.read_csv('C:\\\\Users\\\\DMC CONET\\\\Documents\\\\python\\\\project1\\\\data\\\\종합데이터(수정).csv', index_col = 0)"
   ]
  },
  {
   "cell_type": "code",
   "execution_count": 3,
   "id": "084c4f11",
   "metadata": {},
   "outputs": [
    {
     "name": "stdout",
     "output_type": "stream",
     "text": [
      "<class 'pandas.core.frame.DataFrame'>\n",
      "Int64Index: 4464 entries, 0 to 4463\n",
      "Data columns (total 23 columns):\n",
      " #   Column    Non-Null Count  Dtype  \n",
      "---  ------    --------------  -----  \n",
      " 0   기준년월      4464 non-null   int64  \n",
      " 1   대표자성별명    4464 non-null   object \n",
      " 2   대표자연령대명   4464 non-null   object \n",
      " 3   설립년도      4464 non-null   int64  \n",
      " 4   사업지역명     4464 non-null   object \n",
      " 5   사업업종코드    4464 non-null   int64  \n",
      " 6   사업업종명     4464 non-null   object \n",
      " 7   종업원수구분명   4464 non-null   object \n",
      " 8   재무기준년도    4464 non-null   int64  \n",
      " 9   자본금액      4464 non-null   int64  \n",
      " 10  매출금액      4464 non-null   int64  \n",
      " 11  영업이익      4464 non-null   int64  \n",
      " 12  당기순이익     4464 non-null   int64  \n",
      " 13  자산총합계금액   4464 non-null   int64  \n",
      " 14  부채총합계금액   4464 non-null   int64  \n",
      " 15  보증잔액      4464 non-null   int64  \n",
      " 16  운전자금대출여부  4464 non-null   object \n",
      " 17  시설자금대출여부  4464 non-null   object \n",
      " 18  예금평잔      4464 non-null   int64  \n",
      " 19  대출평잔      4464 non-null   int64  \n",
      " 20  신용평가등급명   4464 non-null   object \n",
      " 21  신용점수      4464 non-null   float64\n",
      " 22  신용등급      4464 non-null   object \n",
      "dtypes: float64(1), int64(13), object(9)\n",
      "memory usage: 837.0+ KB\n"
     ]
    }
   ],
   "source": [
    "df.info()"
   ]
  },
  {
   "cell_type": "code",
   "execution_count": 4,
   "id": "f4602bcd",
   "metadata": {},
   "outputs": [
    {
     "data": {
      "text/plain": [
       "Index(['기준년월', '대표자성별명', '대표자연령대명', '설립년도', '사업지역명', '사업업종코드', '사업업종명',\n",
       "       '종업원수구분명', '재무기준년도', '자본금액', '매출금액', '영업이익', '당기순이익', '자산총합계금액',\n",
       "       '부채총합계금액', '보증잔액', '운전자금대출여부', '시설자금대출여부', '예금평잔', '대출평잔', '신용평가등급명',\n",
       "       '신용점수', '신용등급'],\n",
       "      dtype='object')"
      ]
     },
     "execution_count": 4,
     "metadata": {},
     "output_type": "execute_result"
    }
   ],
   "source": [
    "df.columns"
   ]
  },
  {
   "cell_type": "code",
   "execution_count": 5,
   "id": "70ee3762",
   "metadata": {},
   "outputs": [],
   "source": [
    "# 종업원수구분명(기업규모)는 범주형 변수지만 변수의 크기도 의미를 가지고 있음\n",
    "# 따라서 LabelEncoding 수행\n",
    "\n",
    "df['종업원수구분명'].replace({'0명' : 0, '1명 이상 5명 미만' : 1, '5명 이상 10명 미만' : 2, '10명 이상 30명 미만' : 3}, inplace = True)"
   ]
  },
  {
   "cell_type": "code",
   "execution_count": 6,
   "id": "4794f2d7",
   "metadata": {},
   "outputs": [],
   "source": [
    "num_list = ['매출금액', '영업이익', '자산총합계금액',\n",
    "       '부채총합계금액', '예금평잔', '대출평잔']"
   ]
  },
  {
   "cell_type": "code",
   "execution_count": 7,
   "id": "47540dea",
   "metadata": {},
   "outputs": [],
   "source": [
    "X_numeric = df[num_list]"
   ]
  },
  {
   "cell_type": "code",
   "execution_count": 8,
   "id": "970b79bb",
   "metadata": {},
   "outputs": [
    {
     "name": "stderr",
     "output_type": "stream",
     "text": [
      "C:\\Users\\DMC CONET\\AppData\\Local\\Temp\\ipykernel_24448\\2246251495.py:3: SettingWithCopyWarning: \n",
      "A value is trying to be set on a copy of a slice from a DataFrame.\n",
      "Try using .loc[row_indexer,col_indexer] = value instead\n",
      "\n",
      "See the caveats in the documentation: https://pandas.pydata.org/pandas-docs/stable/user_guide/indexing.html#returning-a-view-versus-a-copy\n",
      "  X_numeric[num_list] = scaler.fit_transform(X_numeric[num_list])\n"
     ]
    }
   ],
   "source": [
    "from sklearn.preprocessing import MinMaxScaler\n",
    "scaler = MinMaxScaler()\n",
    "X_numeric[num_list] = scaler.fit_transform(X_numeric[num_list])"
   ]
  },
  {
   "cell_type": "code",
   "execution_count": 9,
   "id": "f52ea141",
   "metadata": {},
   "outputs": [],
   "source": [
    "X = pd.concat([X_numeric, df[['종업원수구분명']]], axis = 1)\n",
    "y = df['신용등급']"
   ]
  },
  {
   "cell_type": "code",
   "execution_count": 10,
   "id": "8978dbe8",
   "metadata": {},
   "outputs": [],
   "source": [
    "from sklearn.model_selection import train_test_split"
   ]
  },
  {
   "cell_type": "code",
   "execution_count": 11,
   "id": "93adebfd",
   "metadata": {},
   "outputs": [],
   "source": [
    "X_train, X_test, y_train, y_test = train_test_split(X, y, test_size = 0.2, random_state = 1234)"
   ]
  },
  {
   "cell_type": "code",
   "execution_count": 12,
   "id": "e5a02ff9",
   "metadata": {},
   "outputs": [],
   "source": [
    "from imblearn.over_sampling import SMOTE"
   ]
  },
  {
   "cell_type": "code",
   "execution_count": 13,
   "id": "31448b74",
   "metadata": {},
   "outputs": [],
   "source": [
    "over_sampler = SMOTE()\n",
    "X_over, Y_over = over_sampler.fit_resample(X_train, y_train)"
   ]
  },
  {
   "cell_type": "markdown",
   "id": "25c4a54f",
   "metadata": {},
   "source": [
    "# SVC"
   ]
  },
  {
   "cell_type": "code",
   "execution_count": 14,
   "id": "a53efb5d",
   "metadata": {},
   "outputs": [],
   "source": [
    "from sklearn.svm import SVC"
   ]
  },
  {
   "cell_type": "code",
   "execution_count": 15,
   "id": "f5ca796c",
   "metadata": {},
   "outputs": [
    {
     "data": {
      "text/html": [
       "<style>#sk-container-id-1 {color: black;background-color: white;}#sk-container-id-1 pre{padding: 0;}#sk-container-id-1 div.sk-toggleable {background-color: white;}#sk-container-id-1 label.sk-toggleable__label {cursor: pointer;display: block;width: 100%;margin-bottom: 0;padding: 0.3em;box-sizing: border-box;text-align: center;}#sk-container-id-1 label.sk-toggleable__label-arrow:before {content: \"▸\";float: left;margin-right: 0.25em;color: #696969;}#sk-container-id-1 label.sk-toggleable__label-arrow:hover:before {color: black;}#sk-container-id-1 div.sk-estimator:hover label.sk-toggleable__label-arrow:before {color: black;}#sk-container-id-1 div.sk-toggleable__content {max-height: 0;max-width: 0;overflow: hidden;text-align: left;background-color: #f0f8ff;}#sk-container-id-1 div.sk-toggleable__content pre {margin: 0.2em;color: black;border-radius: 0.25em;background-color: #f0f8ff;}#sk-container-id-1 input.sk-toggleable__control:checked~div.sk-toggleable__content {max-height: 200px;max-width: 100%;overflow: auto;}#sk-container-id-1 input.sk-toggleable__control:checked~label.sk-toggleable__label-arrow:before {content: \"▾\";}#sk-container-id-1 div.sk-estimator input.sk-toggleable__control:checked~label.sk-toggleable__label {background-color: #d4ebff;}#sk-container-id-1 div.sk-label input.sk-toggleable__control:checked~label.sk-toggleable__label {background-color: #d4ebff;}#sk-container-id-1 input.sk-hidden--visually {border: 0;clip: rect(1px 1px 1px 1px);clip: rect(1px, 1px, 1px, 1px);height: 1px;margin: -1px;overflow: hidden;padding: 0;position: absolute;width: 1px;}#sk-container-id-1 div.sk-estimator {font-family: monospace;background-color: #f0f8ff;border: 1px dotted black;border-radius: 0.25em;box-sizing: border-box;margin-bottom: 0.5em;}#sk-container-id-1 div.sk-estimator:hover {background-color: #d4ebff;}#sk-container-id-1 div.sk-parallel-item::after {content: \"\";width: 100%;border-bottom: 1px solid gray;flex-grow: 1;}#sk-container-id-1 div.sk-label:hover label.sk-toggleable__label {background-color: #d4ebff;}#sk-container-id-1 div.sk-serial::before {content: \"\";position: absolute;border-left: 1px solid gray;box-sizing: border-box;top: 0;bottom: 0;left: 50%;z-index: 0;}#sk-container-id-1 div.sk-serial {display: flex;flex-direction: column;align-items: center;background-color: white;padding-right: 0.2em;padding-left: 0.2em;position: relative;}#sk-container-id-1 div.sk-item {position: relative;z-index: 1;}#sk-container-id-1 div.sk-parallel {display: flex;align-items: stretch;justify-content: center;background-color: white;position: relative;}#sk-container-id-1 div.sk-item::before, #sk-container-id-1 div.sk-parallel-item::before {content: \"\";position: absolute;border-left: 1px solid gray;box-sizing: border-box;top: 0;bottom: 0;left: 50%;z-index: -1;}#sk-container-id-1 div.sk-parallel-item {display: flex;flex-direction: column;z-index: 1;position: relative;background-color: white;}#sk-container-id-1 div.sk-parallel-item:first-child::after {align-self: flex-end;width: 50%;}#sk-container-id-1 div.sk-parallel-item:last-child::after {align-self: flex-start;width: 50%;}#sk-container-id-1 div.sk-parallel-item:only-child::after {width: 0;}#sk-container-id-1 div.sk-dashed-wrapped {border: 1px dashed gray;margin: 0 0.4em 0.5em 0.4em;box-sizing: border-box;padding-bottom: 0.4em;background-color: white;}#sk-container-id-1 div.sk-label label {font-family: monospace;font-weight: bold;display: inline-block;line-height: 1.2em;}#sk-container-id-1 div.sk-label-container {text-align: center;}#sk-container-id-1 div.sk-container {/* jupyter's `normalize.less` sets `[hidden] { display: none; }` but bootstrap.min.css set `[hidden] { display: none !important; }` so we also need the `!important` here to be able to override the default hidden behavior on the sphinx rendered scikit-learn.org. See: https://github.com/scikit-learn/scikit-learn/issues/21755 */display: inline-block !important;position: relative;}#sk-container-id-1 div.sk-text-repr-fallback {display: none;}</style><div id=\"sk-container-id-1\" class=\"sk-top-container\"><div class=\"sk-text-repr-fallback\"><pre>SVC()</pre><b>In a Jupyter environment, please rerun this cell to show the HTML representation or trust the notebook. <br />On GitHub, the HTML representation is unable to render, please try loading this page with nbviewer.org.</b></div><div class=\"sk-container\" hidden><div class=\"sk-item\"><div class=\"sk-estimator sk-toggleable\"><input class=\"sk-toggleable__control sk-hidden--visually\" id=\"sk-estimator-id-1\" type=\"checkbox\" checked><label for=\"sk-estimator-id-1\" class=\"sk-toggleable__label sk-toggleable__label-arrow\">SVC</label><div class=\"sk-toggleable__content\"><pre>SVC()</pre></div></div></div></div></div>"
      ],
      "text/plain": [
       "SVC()"
      ]
     },
     "execution_count": 15,
     "metadata": {},
     "output_type": "execute_result"
    }
   ],
   "source": [
    "model = SVC()\n",
    "model.fit(X_train, y_train)"
   ]
  },
  {
   "cell_type": "code",
   "execution_count": 16,
   "id": "d5bfd47e",
   "metadata": {},
   "outputs": [],
   "source": [
    "y_train_pred = model.predict(X_train)\n",
    "y_test_pred = model.predict(X_test)"
   ]
  },
  {
   "cell_type": "code",
   "execution_count": 17,
   "id": "1670aaf0",
   "metadata": {},
   "outputs": [],
   "source": [
    "from sklearn.metrics import classification_report"
   ]
  },
  {
   "cell_type": "code",
   "execution_count": 18,
   "id": "f511936d",
   "metadata": {},
   "outputs": [
    {
     "name": "stdout",
     "output_type": "stream",
     "text": [
      "              precision    recall  f1-score   support\n",
      "\n",
      "           A       0.93      0.93      0.93       167\n",
      "           B       0.97      0.94      0.95       479\n",
      "           C       0.95      0.96      0.95       763\n",
      "           D       0.96      0.98      0.97      1105\n",
      "           E       0.99      0.98      0.98      1057\n",
      "\n",
      "    accuracy                           0.97      3571\n",
      "   macro avg       0.96      0.96      0.96      3571\n",
      "weighted avg       0.97      0.97      0.97      3571\n",
      "\n",
      "              precision    recall  f1-score   support\n",
      "\n",
      "           A       0.98      0.94      0.96        53\n",
      "           B       0.96      0.97      0.97       119\n",
      "           C       0.98      0.95      0.96       188\n",
      "           D       0.96      0.99      0.97       271\n",
      "           E       0.99      0.98      0.99       262\n",
      "\n",
      "    accuracy                           0.97       893\n",
      "   macro avg       0.97      0.97      0.97       893\n",
      "weighted avg       0.97      0.97      0.97       893\n",
      "\n"
     ]
    }
   ],
   "source": [
    "print(classification_report(y_train, y_train_pred))\n",
    "print(classification_report(y_test, y_test_pred))"
   ]
  },
  {
   "cell_type": "markdown",
   "id": "137cc6ec",
   "metadata": {},
   "source": [
    "## DecisionTreeClassifier"
   ]
  },
  {
   "cell_type": "code",
   "execution_count": 19,
   "id": "56b5dad2",
   "metadata": {},
   "outputs": [],
   "source": [
    "from sklearn.tree import DecisionTreeClassifier\n",
    "from sklearn.model_selection import GridSearchCV"
   ]
  },
  {
   "cell_type": "code",
   "execution_count": 20,
   "id": "7220752f",
   "metadata": {},
   "outputs": [
    {
     "name": "stdout",
     "output_type": "stream",
     "text": [
      "              precision    recall  f1-score   support\n",
      "\n",
      "           A       0.84      0.68      0.75       167\n",
      "           B       0.70      0.76      0.73       479\n",
      "           C       0.74      0.55      0.64       763\n",
      "           D       0.75      0.93      0.83      1105\n",
      "           E       0.99      0.92      0.95      1057\n",
      "\n",
      "    accuracy                           0.81      3571\n",
      "   macro avg       0.81      0.77      0.78      3571\n",
      "weighted avg       0.82      0.81      0.81      3571\n",
      "\n",
      "              precision    recall  f1-score   support\n",
      "\n",
      "           A       0.87      0.62      0.73        53\n",
      "           B       0.64      0.84      0.72       119\n",
      "           C       0.80      0.54      0.65       188\n",
      "           D       0.78      0.93      0.85       271\n",
      "           E       0.98      0.93      0.95       262\n",
      "\n",
      "    accuracy                           0.82       893\n",
      "   macro avg       0.81      0.77      0.78       893\n",
      "weighted avg       0.83      0.82      0.81       893\n",
      "\n"
     ]
    },
    {
     "name": "stderr",
     "output_type": "stream",
     "text": [
      "C:\\Users\\DMC CONET\\miniconda3\\envs\\tf_gpu\\lib\\site-packages\\sklearn\\model_selection\\_search.py:953: UserWarning: One or more of the test scores are non-finite: [nan nan nan nan nan nan nan nan nan nan nan nan nan nan nan nan nan nan\n",
      " nan nan nan nan nan nan nan nan nan nan nan nan nan nan nan nan nan nan]\n",
      "  warnings.warn(\n"
     ]
    }
   ],
   "source": [
    "model_dt = DecisionTreeClassifier()\n",
    "model_dt.fit(X_train, y_train)\n",
    "\n",
    "hyper_parameters = {\n",
    "    \"max_depth\" : range(5, 11),\n",
    "    \"min_samples_split\" : range(5, 11)\n",
    "}\n",
    "\n",
    "grid_model = GridSearchCV(estimator = model_dt, param_grid = hyper_parameters, cv = 3, n_jobs = -1, scoring = 'f1')\n",
    "grid_model.fit(X_train, y_train)\n",
    "\n",
    "best_model = grid_model.best_estimator_\n",
    "\n",
    "Y_train_pred = best_model.predict(X_train)\n",
    "Y_test_pred = best_model.predict(X_test)\n",
    "\n",
    "print(classification_report(y_train, Y_train_pred))\n",
    "print(classification_report(y_test, Y_test_pred))"
   ]
  },
  {
   "cell_type": "markdown",
   "id": "6c4934e4",
   "metadata": {},
   "source": [
    "## DecisionTreeClassifier-SMOTE"
   ]
  },
  {
   "cell_type": "code",
   "execution_count": 21,
   "id": "bf2f75f1",
   "metadata": {},
   "outputs": [
    {
     "name": "stdout",
     "output_type": "stream",
     "text": [
      "              precision    recall  f1-score   support\n",
      "\n",
      "           A       0.92      0.97      0.95      1105\n",
      "           B       0.82      0.80      0.81      1105\n",
      "           C       0.67      0.82      0.74      1105\n",
      "           D       0.81      0.67      0.73      1105\n",
      "           E       0.99      0.92      0.95      1105\n",
      "\n",
      "    accuracy                           0.84      5525\n",
      "   macro avg       0.84      0.84      0.84      5525\n",
      "weighted avg       0.84      0.84      0.84      5525\n",
      "\n",
      "              precision    recall  f1-score   support\n",
      "\n",
      "           A       0.79      1.00      0.88        53\n",
      "           B       0.67      0.74      0.70       119\n",
      "           C       0.64      0.78      0.71       188\n",
      "           D       0.88      0.70      0.78       271\n",
      "           E       0.98      0.94      0.96       262\n",
      "\n",
      "    accuracy                           0.81       893\n",
      "   macro avg       0.79      0.83      0.80       893\n",
      "weighted avg       0.82      0.81      0.81       893\n",
      "\n"
     ]
    },
    {
     "name": "stderr",
     "output_type": "stream",
     "text": [
      "C:\\Users\\DMC CONET\\miniconda3\\envs\\tf_gpu\\lib\\site-packages\\sklearn\\model_selection\\_search.py:953: UserWarning: One or more of the test scores are non-finite: [nan nan nan nan nan nan nan nan nan nan nan nan nan nan nan nan nan nan\n",
      " nan nan nan nan nan nan nan nan nan nan nan nan nan nan nan nan nan nan\n",
      " nan nan nan nan nan nan nan nan nan nan nan nan nan nan nan nan nan nan\n",
      " nan nan nan nan nan nan nan nan nan nan nan nan nan nan nan nan nan nan\n",
      " nan nan nan nan nan nan nan nan nan nan nan nan nan nan nan nan nan nan\n",
      " nan nan nan nan nan nan nan nan nan nan nan nan nan nan nan nan nan nan\n",
      " nan nan nan nan nan nan nan nan nan nan nan nan nan nan nan nan nan nan\n",
      " nan nan nan nan nan nan nan nan nan nan nan nan nan nan nan nan nan nan\n",
      " nan nan nan nan nan nan nan nan nan nan nan nan nan nan nan nan nan nan\n",
      " nan nan nan nan nan nan nan nan nan nan nan nan nan nan nan nan nan nan]\n",
      "  warnings.warn(\n"
     ]
    }
   ],
   "source": [
    "model_dt = DecisionTreeClassifier()\n",
    "model_dt.fit(X_over, Y_over)\n",
    "\n",
    "hyper_parameters = {\n",
    "    \"max_depth\" : range(5, 11),\n",
    "    \"min_samples_split\" : range(5, 11),\n",
    "    \"min_samples_leaf\" : range(2, 7)\n",
    "}\n",
    "\n",
    "grid_model = GridSearchCV(estimator = model_dt, param_grid = hyper_parameters, cv = 5, n_jobs = -1, scoring = 'f1')\n",
    "grid_model.fit(X_over, Y_over)\n",
    "\n",
    "best_model = grid_model.best_estimator_\n",
    "\n",
    "Y_train_pred = best_model.predict(X_over)\n",
    "Y_test_pred = best_model.predict(X_test)\n",
    "\n",
    "print(classification_report(Y_over, Y_train_pred))\n",
    "print(classification_report(y_test, Y_test_pred))"
   ]
  },
  {
   "cell_type": "markdown",
   "id": "b17e6f15",
   "metadata": {},
   "source": [
    "## RandomForestClassifier"
   ]
  },
  {
   "cell_type": "code",
   "execution_count": 22,
   "id": "339e090e",
   "metadata": {},
   "outputs": [],
   "source": [
    "from sklearn.ensemble import RandomForestClassifier"
   ]
  },
  {
   "cell_type": "code",
   "execution_count": 23,
   "id": "30556482",
   "metadata": {},
   "outputs": [
    {
     "name": "stderr",
     "output_type": "stream",
     "text": [
      "C:\\Users\\DMC CONET\\miniconda3\\envs\\tf_gpu\\lib\\site-packages\\sklearn\\model_selection\\_search.py:953: UserWarning: One or more of the test scores are non-finite: [nan nan nan nan nan nan nan nan nan nan nan nan nan nan nan nan nan nan\n",
      " nan nan nan nan nan nan nan nan nan nan nan nan nan nan nan nan nan nan]\n",
      "  warnings.warn(\n"
     ]
    },
    {
     "name": "stdout",
     "output_type": "stream",
     "text": [
      "              precision    recall  f1-score   support\n",
      "\n",
      "           A       0.98      0.83      0.90       167\n",
      "           B       0.84      0.91      0.88       479\n",
      "           C       0.90      0.77      0.83       763\n",
      "           D       0.85      0.94      0.89      1105\n",
      "           E       0.97      0.95      0.96      1057\n",
      "\n",
      "    accuracy                           0.90      3571\n",
      "   macro avg       0.91      0.88      0.89      3571\n",
      "weighted avg       0.90      0.90      0.90      3571\n",
      "\n",
      "              precision    recall  f1-score   support\n",
      "\n",
      "           A       0.98      0.87      0.92        53\n",
      "           B       0.82      0.95      0.88       119\n",
      "           C       0.93      0.73      0.82       188\n",
      "           D       0.86      0.93      0.89       271\n",
      "           E       0.94      0.97      0.95       262\n",
      "\n",
      "    accuracy                           0.90       893\n",
      "   macro avg       0.91      0.89      0.89       893\n",
      "weighted avg       0.90      0.90      0.90       893\n",
      "\n"
     ]
    }
   ],
   "source": [
    "model_rf = RandomForestClassifier()\n",
    "model_rf.fit(X_train, y_train)\n",
    "\n",
    "hyper_parameters = {\n",
    "    \"max_depth\" : range(5, 11),\n",
    "    \"min_samples_split\" : range(5, 11)\n",
    "}\n",
    "\n",
    "grid_model = GridSearchCV(estimator = model_rf, param_grid = hyper_parameters, cv = 3, n_jobs = -1, scoring = 'f1')\n",
    "grid_model.fit(X_train, y_train)\n",
    "\n",
    "best_model = grid_model.best_estimator_\n",
    "\n",
    "Y_train_pred = best_model.predict(X_train)\n",
    "Y_test_pred = best_model.predict(X_test)\n",
    "\n",
    "print(classification_report(y_train, Y_train_pred))\n",
    "print(classification_report(y_test, Y_test_pred))"
   ]
  },
  {
   "cell_type": "markdown",
   "id": "48492830",
   "metadata": {},
   "source": [
    "## RandomForestClassifier-SMOTE"
   ]
  },
  {
   "cell_type": "code",
   "execution_count": 24,
   "id": "330d8f08",
   "metadata": {},
   "outputs": [
    {
     "name": "stderr",
     "output_type": "stream",
     "text": [
      "C:\\Users\\DMC CONET\\miniconda3\\envs\\tf_gpu\\lib\\site-packages\\sklearn\\model_selection\\_search.py:953: UserWarning: One or more of the test scores are non-finite: [nan nan nan nan nan nan nan nan nan nan nan nan nan nan nan nan nan nan\n",
      " nan nan nan nan nan nan nan nan nan nan nan nan nan nan nan nan nan nan\n",
      " nan nan nan nan nan nan nan nan nan nan nan nan nan nan nan nan nan nan\n",
      " nan nan nan nan nan nan nan nan nan nan nan nan nan nan nan nan nan nan\n",
      " nan nan nan nan nan nan nan nan nan nan nan nan nan nan nan nan nan nan\n",
      " nan nan nan nan nan nan nan nan nan nan nan nan nan nan nan nan nan nan\n",
      " nan nan nan nan nan nan nan nan nan nan nan nan nan nan nan nan nan nan\n",
      " nan nan nan nan nan nan nan nan nan nan nan nan nan nan nan nan nan nan\n",
      " nan nan nan nan nan nan nan nan nan nan nan nan nan nan nan nan nan nan\n",
      " nan nan nan nan nan nan nan nan nan nan nan nan nan nan nan nan nan nan\n",
      " nan nan nan nan nan nan nan nan nan nan nan nan nan nan nan nan nan nan\n",
      " nan nan nan nan nan nan nan nan nan nan nan nan nan nan nan nan nan nan\n",
      " nan nan nan nan nan nan nan nan nan nan nan nan nan nan nan nan nan nan\n",
      " nan nan nan nan nan nan nan nan nan nan nan nan nan nan nan nan nan nan\n",
      " nan nan nan nan nan nan nan nan nan nan nan nan nan nan nan nan nan nan\n",
      " nan nan nan nan nan nan nan nan nan nan nan nan nan nan nan nan nan nan\n",
      " nan nan nan nan nan nan nan nan nan nan nan nan nan nan nan nan nan nan\n",
      " nan nan nan nan nan nan nan nan nan nan nan nan nan nan nan nan nan nan\n",
      " nan nan nan nan nan nan nan nan nan nan nan nan nan nan nan nan nan nan\n",
      " nan nan nan nan nan nan nan nan nan nan nan nan nan nan nan nan nan nan\n",
      " nan nan nan nan nan nan nan nan nan nan nan nan nan nan nan nan nan nan\n",
      " nan nan nan nan nan nan nan nan nan nan nan nan nan nan nan nan nan nan\n",
      " nan nan nan nan nan nan nan nan nan nan nan nan nan nan nan nan nan nan\n",
      " nan nan nan nan nan nan nan nan nan nan nan nan nan nan nan nan nan nan\n",
      " nan nan nan nan nan nan nan nan nan nan nan nan nan nan nan nan nan nan\n",
      " nan nan nan nan nan nan nan nan nan nan nan nan nan nan nan nan nan nan\n",
      " nan nan nan nan nan nan nan nan nan nan nan nan nan nan nan nan nan nan\n",
      " nan nan nan nan nan nan nan nan nan nan nan nan nan nan nan nan nan nan\n",
      " nan nan nan nan nan nan nan nan nan nan nan nan nan nan nan nan nan nan\n",
      " nan nan nan nan nan nan nan nan nan nan nan nan nan nan nan nan nan nan\n",
      " nan nan nan nan nan nan nan nan nan nan nan nan nan nan nan nan nan nan\n",
      " nan nan nan nan nan nan nan nan nan nan nan nan nan nan nan nan nan nan\n",
      " nan nan nan nan nan nan nan nan nan nan nan nan nan nan nan nan nan nan\n",
      " nan nan nan nan nan nan nan nan nan nan nan]\n",
      "  warnings.warn(\n"
     ]
    },
    {
     "name": "stdout",
     "output_type": "stream",
     "text": [
      "              precision    recall  f1-score   support\n",
      "\n",
      "           A       0.95      0.99      0.97      1105\n",
      "           B       0.92      0.87      0.90      1105\n",
      "           C       0.88      0.87      0.87      1105\n",
      "           D       0.88      0.93      0.90      1105\n",
      "           E       0.97      0.95      0.96      1105\n",
      "\n",
      "    accuracy                           0.92      5525\n",
      "   macro avg       0.92      0.92      0.92      5525\n",
      "weighted avg       0.92      0.92      0.92      5525\n",
      "\n",
      "              precision    recall  f1-score   support\n",
      "\n",
      "           A       0.88      0.98      0.93        53\n",
      "           B       0.82      0.90      0.86       119\n",
      "           C       0.92      0.80      0.85       188\n",
      "           D       0.90      0.92      0.91       271\n",
      "           E       0.94      0.95      0.94       262\n",
      "\n",
      "    accuracy                           0.90       893\n",
      "   macro avg       0.89      0.91      0.90       893\n",
      "weighted avg       0.90      0.90      0.90       893\n",
      "\n"
     ]
    }
   ],
   "source": [
    "model_rf = RandomForestClassifier()\n",
    "model_rf.fit(X_over, Y_over)\n",
    "\n",
    "hyper_parameters = {\n",
    "    \"max_depth\" : range(5, 16),\n",
    "    \"min_samples_split\" : range(5, 16),\n",
    "    \"min_samples_leaf\" : range(2, 7)\n",
    "}\n",
    "\n",
    "grid_model = GridSearchCV(estimator = model_rf, param_grid = hyper_parameters, cv = 5, n_jobs = -1, scoring = 'f1')\n",
    "grid_model.fit(X_over, Y_over)\n",
    "\n",
    "best_model = grid_model.best_estimator_\n",
    "\n",
    "Y_train_pred = best_model.predict(X_over)\n",
    "Y_test_pred = best_model.predict(X_test)\n",
    "\n",
    "print(classification_report(Y_over, Y_train_pred))\n",
    "print(classification_report(y_test, Y_test_pred))"
   ]
  },
  {
   "cell_type": "markdown",
   "id": "f62e6134",
   "metadata": {},
   "source": [
    "## LightGBM"
   ]
  },
  {
   "cell_type": "code",
   "execution_count": 25,
   "id": "e3b4cffb",
   "metadata": {},
   "outputs": [],
   "source": [
    "from lightgbm import LGBMClassifier"
   ]
  },
  {
   "cell_type": "code",
   "execution_count": 26,
   "id": "5a4af671",
   "metadata": {},
   "outputs": [
    {
     "name": "stderr",
     "output_type": "stream",
     "text": [
      "C:\\Users\\DMC CONET\\miniconda3\\envs\\tf_gpu\\lib\\site-packages\\sklearn\\model_selection\\_search.py:953: UserWarning: One or more of the test scores are non-finite: [nan nan nan nan nan nan nan nan nan nan nan nan nan nan nan nan nan nan\n",
      " nan nan nan nan nan nan nan nan nan nan nan nan nan nan nan nan nan nan]\n",
      "  warnings.warn(\n"
     ]
    },
    {
     "name": "stdout",
     "output_type": "stream",
     "text": [
      "              precision    recall  f1-score   support\n",
      "\n",
      "           A       1.00      1.00      1.00       167\n",
      "           B       1.00      1.00      1.00       479\n",
      "           C       1.00      1.00      1.00       763\n",
      "           D       1.00      1.00      1.00      1105\n",
      "           E       1.00      1.00      1.00      1057\n",
      "\n",
      "    accuracy                           1.00      3571\n",
      "   macro avg       1.00      1.00      1.00      3571\n",
      "weighted avg       1.00      1.00      1.00      3571\n",
      "\n",
      "              precision    recall  f1-score   support\n",
      "\n",
      "           A       1.00      1.00      1.00        53\n",
      "           B       1.00      1.00      1.00       119\n",
      "           C       1.00      0.99      1.00       188\n",
      "           D       1.00      1.00      1.00       271\n",
      "           E       1.00      1.00      1.00       262\n",
      "\n",
      "    accuracy                           1.00       893\n",
      "   macro avg       1.00      1.00      1.00       893\n",
      "weighted avg       1.00      1.00      1.00       893\n",
      "\n"
     ]
    }
   ],
   "source": [
    "model_lgbm = LGBMClassifier()\n",
    "model_lgbm.fit(X_train, y_train)\n",
    "\n",
    "hyper_parameters = {\n",
    "    \"max_depth\" : range(5, 11),\n",
    "    \"min_samples_split\" : range(5, 11)\n",
    "}\n",
    "\n",
    "grid_model = GridSearchCV(estimator = model_lgbm, param_grid = hyper_parameters, cv = 3, n_jobs = -1, scoring = 'f1')\n",
    "grid_model.fit(X_train, y_train)\n",
    "\n",
    "best_model = grid_model.best_estimator_\n",
    "\n",
    "Y_train_pred = best_model.predict(X_train)\n",
    "Y_test_pred = best_model.predict(X_test)\n",
    "\n",
    "print(classification_report(y_train, Y_train_pred))\n",
    "print(classification_report(y_test, Y_test_pred))"
   ]
  },
  {
   "cell_type": "markdown",
   "id": "70634de4",
   "metadata": {},
   "source": [
    "## LightGBM-SMOTE"
   ]
  },
  {
   "cell_type": "code",
   "execution_count": 27,
   "id": "2ef54767",
   "metadata": {},
   "outputs": [
    {
     "name": "stderr",
     "output_type": "stream",
     "text": [
      "C:\\Users\\DMC CONET\\miniconda3\\envs\\tf_gpu\\lib\\site-packages\\sklearn\\model_selection\\_search.py:953: UserWarning: One or more of the test scores are non-finite: [nan nan nan nan nan nan nan nan nan nan nan nan nan nan nan nan nan nan\n",
      " nan nan nan nan nan nan nan nan nan nan nan nan nan nan nan nan nan nan\n",
      " nan nan nan nan nan nan nan nan nan nan nan nan nan nan nan nan nan nan\n",
      " nan nan nan nan nan nan nan nan nan nan nan nan nan nan nan nan nan nan\n",
      " nan nan nan nan nan nan nan nan nan nan nan nan nan nan nan nan nan nan\n",
      " nan nan nan nan nan nan nan nan nan nan nan nan nan nan nan nan nan nan\n",
      " nan nan nan nan nan nan nan nan nan nan nan nan nan nan nan nan nan nan\n",
      " nan nan nan nan nan nan nan nan nan nan nan nan nan nan nan nan nan nan\n",
      " nan nan nan nan nan nan nan nan nan nan nan nan nan nan nan nan nan nan\n",
      " nan nan nan nan nan nan nan nan nan nan nan nan nan nan nan nan nan nan]\n",
      "  warnings.warn(\n"
     ]
    },
    {
     "name": "stdout",
     "output_type": "stream",
     "text": [
      "              precision    recall  f1-score   support\n",
      "\n",
      "           A       1.00      1.00      1.00      1105\n",
      "           B       1.00      1.00      1.00      1105\n",
      "           C       1.00      1.00      1.00      1105\n",
      "           D       1.00      1.00      1.00      1105\n",
      "           E       1.00      1.00      1.00      1105\n",
      "\n",
      "    accuracy                           1.00      5525\n",
      "   macro avg       1.00      1.00      1.00      5525\n",
      "weighted avg       1.00      1.00      1.00      5525\n",
      "\n",
      "              precision    recall  f1-score   support\n",
      "\n",
      "           A       1.00      1.00      1.00        53\n",
      "           B       1.00      1.00      1.00       119\n",
      "           C       1.00      0.99      1.00       188\n",
      "           D       1.00      1.00      1.00       271\n",
      "           E       1.00      1.00      1.00       262\n",
      "\n",
      "    accuracy                           1.00       893\n",
      "   macro avg       1.00      1.00      1.00       893\n",
      "weighted avg       1.00      1.00      1.00       893\n",
      "\n"
     ]
    }
   ],
   "source": [
    "model_lgbm = LGBMClassifier()\n",
    "model_lgbm.fit(X_over, Y_over)\n",
    "\n",
    "hyper_parameters = {\n",
    "    \"max_depth\" : range(5, 11),\n",
    "    \"min_samples_split\" : range(5, 11),\n",
    "    \"min_samples_leaf\" : range(2, 7)\n",
    "}\n",
    "\n",
    "grid_model = GridSearchCV(estimator = model_lgbm, param_grid = hyper_parameters, cv = 5, n_jobs = -1, scoring = 'f1')\n",
    "grid_model.fit(X_over, Y_over)\n",
    "\n",
    "best_model = grid_model.best_estimator_\n",
    "\n",
    "Y_train_pred = best_model.predict(X_over)\n",
    "Y_test_pred = best_model.predict(X_test)\n",
    "\n",
    "print(classification_report(Y_over, Y_train_pred))\n",
    "print(classification_report(y_test, Y_test_pred))"
   ]
  },
  {
   "cell_type": "markdown",
   "id": "091362e0",
   "metadata": {},
   "source": [
    "## LightGBM-ADASYN"
   ]
  },
  {
   "cell_type": "code",
   "execution_count": 28,
   "id": "4d7b9036",
   "metadata": {},
   "outputs": [],
   "source": [
    "from imblearn.over_sampling import ADASYN"
   ]
  },
  {
   "cell_type": "code",
   "execution_count": 29,
   "id": "f3d957bb",
   "metadata": {},
   "outputs": [],
   "source": [
    "over_sampler2 = ADASYN()\n",
    "X_over2, Y_over2 = over_sampler2.fit_resample(X_train, y_train)"
   ]
  },
  {
   "cell_type": "code",
   "execution_count": 31,
   "id": "6edbca54",
   "metadata": {},
   "outputs": [
    {
     "name": "stderr",
     "output_type": "stream",
     "text": [
      "C:\\Users\\DMC CONET\\miniconda3\\envs\\tf_gpu\\lib\\site-packages\\sklearn\\model_selection\\_search.py:953: UserWarning: One or more of the test scores are non-finite: [nan nan nan nan nan nan nan nan nan nan nan nan nan nan nan nan nan nan\n",
      " nan nan nan nan nan nan nan nan nan nan nan nan nan nan nan nan nan nan\n",
      " nan nan nan nan nan nan nan nan nan nan nan nan nan nan nan nan nan nan\n",
      " nan nan nan nan nan nan nan nan nan nan nan nan nan nan nan nan nan nan\n",
      " nan nan nan nan nan nan nan nan nan nan nan nan nan nan nan nan nan nan\n",
      " nan nan nan nan nan nan nan nan nan nan nan nan nan nan nan nan nan nan\n",
      " nan nan nan nan nan nan nan nan nan nan nan nan nan nan nan nan nan nan\n",
      " nan nan nan nan nan nan nan nan nan nan nan nan nan nan nan nan nan nan\n",
      " nan nan nan nan nan nan nan nan nan nan nan nan nan nan nan nan nan nan\n",
      " nan nan nan nan nan nan nan nan nan nan nan nan nan nan nan nan nan nan]\n",
      "  warnings.warn(\n"
     ]
    },
    {
     "name": "stdout",
     "output_type": "stream",
     "text": [
      "              precision    recall  f1-score   support\n",
      "\n",
      "           A       1.00      1.00      1.00      1104\n",
      "           B       1.00      1.00      1.00      1100\n",
      "           C       1.00      1.00      1.00      1114\n",
      "           D       1.00      1.00      1.00      1105\n",
      "           E       1.00      1.00      1.00      1110\n",
      "\n",
      "    accuracy                           1.00      5533\n",
      "   macro avg       1.00      1.00      1.00      5533\n",
      "weighted avg       1.00      1.00      1.00      5533\n",
      "\n",
      "              precision    recall  f1-score   support\n",
      "\n",
      "           A       1.00      1.00      1.00        53\n",
      "           B       1.00      1.00      1.00       119\n",
      "           C       1.00      0.99      1.00       188\n",
      "           D       1.00      1.00      1.00       271\n",
      "           E       1.00      1.00      1.00       262\n",
      "\n",
      "    accuracy                           1.00       893\n",
      "   macro avg       1.00      1.00      1.00       893\n",
      "weighted avg       1.00      1.00      1.00       893\n",
      "\n"
     ]
    }
   ],
   "source": [
    "model_lgbm = LGBMClassifier()\n",
    "model_lgbm.fit(X_over2, Y_over2)\n",
    "\n",
    "hyper_parameters = {\n",
    "    \"max_depth\" : range(5, 11),\n",
    "    \"min_samples_split\" : range(5, 11),\n",
    "    \"min_samples_leaf\" : range(2, 7)\n",
    "}\n",
    "\n",
    "grid_model = GridSearchCV(estimator = model_lgbm, param_grid = hyper_parameters, cv = 5, n_jobs = -1, scoring = 'f1')\n",
    "grid_model.fit(X_over2, Y_over2)\n",
    "\n",
    "best_model = grid_model.best_estimator_\n",
    "\n",
    "Y_train_pred = best_model.predict(X_over2)\n",
    "Y_test_pred = best_model.predict(X_test)\n",
    "\n",
    "print(classification_report(Y_over2, Y_train_pred))\n",
    "print(classification_report(y_test, Y_test_pred))"
   ]
  },
  {
   "cell_type": "markdown",
   "id": "2212896a",
   "metadata": {},
   "source": [
    "## XGBClassifier"
   ]
  },
  {
   "cell_type": "code",
   "execution_count": 32,
   "id": "c6ae006b",
   "metadata": {},
   "outputs": [],
   "source": [
    "from xgboost import XGBClassifier\n",
    "from xgboost import plot_importance"
   ]
  },
  {
   "cell_type": "code",
   "execution_count": 33,
   "id": "d3dc2037",
   "metadata": {},
   "outputs": [
    {
     "name": "stderr",
     "output_type": "stream",
     "text": [
      "C:\\Users\\DMC CONET\\miniconda3\\envs\\tf_gpu\\lib\\site-packages\\sklearn\\model_selection\\_search.py:953: UserWarning: One or more of the test scores are non-finite: [nan nan nan nan nan nan nan nan nan nan nan nan]\n",
      "  warnings.warn(\n"
     ]
    },
    {
     "name": "stdout",
     "output_type": "stream",
     "text": [
      "              precision    recall  f1-score   support\n",
      "\n",
      "           0       1.00      1.00      1.00      1057\n",
      "           1       1.00      1.00      1.00      1105\n",
      "           2       1.00      1.00      1.00       763\n",
      "           3       1.00      1.00      1.00       479\n",
      "           4       1.00      1.00      1.00       167\n",
      "\n",
      "    accuracy                           1.00      3571\n",
      "   macro avg       1.00      1.00      1.00      3571\n",
      "weighted avg       1.00      1.00      1.00      3571\n",
      "\n",
      "              precision    recall  f1-score   support\n",
      "\n",
      "           0       1.00      1.00      1.00       262\n",
      "           1       1.00      1.00      1.00       271\n",
      "           2       1.00      0.99      1.00       188\n",
      "           3       1.00      1.00      1.00       119\n",
      "           4       1.00      1.00      1.00        53\n",
      "\n",
      "    accuracy                           1.00       893\n",
      "   macro avg       1.00      1.00      1.00       893\n",
      "weighted avg       1.00      1.00      1.00       893\n",
      "\n"
     ]
    }
   ],
   "source": [
    "y_train_label = y_train.replace({'E' : 0, 'D' : 1, 'C' : 2, 'B' : 3, 'A' : 4})\n",
    "y_test_label = y_test.replace({'E' : 0, 'D' : 1, 'C' : 2, 'B' : 3, 'A' : 4})\n",
    "\n",
    "model_xgb = XGBClassifier()\n",
    "model_xgb.fit(X_train, y_train_label)\n",
    "\n",
    "hyper_parameters = {\n",
    "    \"max_depth\" : range(5, 11),\n",
    "    \"subsample\" : [0.5, 1]\n",
    "}\n",
    "\n",
    "grid_model = GridSearchCV(estimator = model_xgb, param_grid = hyper_parameters, cv = 3, n_jobs = -1, scoring = 'f1')\n",
    "grid_model.fit(X_train, y_train_label)\n",
    "\n",
    "best_model = grid_model.best_estimator_\n",
    "\n",
    "Y_train_pred = best_model.predict(X_train)\n",
    "Y_test_pred = best_model.predict(X_test)\n",
    "\n",
    "print(classification_report(y_train_label, Y_train_pred))\n",
    "print(classification_report(y_test_label, Y_test_pred))"
   ]
  },
  {
   "cell_type": "code",
   "execution_count": 34,
   "id": "568359e3",
   "metadata": {},
   "outputs": [
    {
     "data": {
      "text/plain": [
       "<AxesSubplot: title={'center': 'Feature importance'}, xlabel='F score', ylabel='Features'>"
      ]
     },
     "execution_count": 34,
     "metadata": {},
     "output_type": "execute_result"
    },
    {
     "data": {
      "image/png": "[encoded data removed]",
      "text/plain": [
       "<Figure size 1000x1200 with 1 Axes>"
      ]
     },
     "metadata": {},
     "output_type": "display_data"
    }
   ],
   "source": [
    "%matplotlib inline\n",
    "\n",
    "fig, ax = plt.subplots(figsize=(10, 12))\n",
    "plot_importance(best_model, ax=ax)"
   ]
  },
  {
   "cell_type": "markdown",
   "id": "7f4e1b33",
   "metadata": {},
   "source": [
    "## XGBClassifier-SMOTE"
   ]
  },
  {
   "cell_type": "code",
   "execution_count": 35,
   "id": "529792ce",
   "metadata": {},
   "outputs": [
    {
     "name": "stderr",
     "output_type": "stream",
     "text": [
      "C:\\Users\\DMC CONET\\miniconda3\\envs\\tf_gpu\\lib\\site-packages\\sklearn\\model_selection\\_search.py:953: UserWarning: One or more of the test scores are non-finite: [nan nan nan nan nan nan nan nan nan nan nan nan nan nan nan nan nan nan\n",
      " nan nan nan nan nan nan nan nan nan nan nan nan nan nan nan nan nan nan]\n",
      "  warnings.warn(\n"
     ]
    },
    {
     "name": "stdout",
     "output_type": "stream",
     "text": [
      "              precision    recall  f1-score   support\n",
      "\n",
      "           0       1.00      1.00      1.00      1105\n",
      "           1       1.00      1.00      1.00      1105\n",
      "           2       1.00      1.00      1.00      1105\n",
      "           3       1.00      1.00      1.00      1105\n",
      "           4       1.00      1.00      1.00      1105\n",
      "\n",
      "    accuracy                           1.00      5525\n",
      "   macro avg       1.00      1.00      1.00      5525\n",
      "weighted avg       1.00      1.00      1.00      5525\n",
      "\n",
      "              precision    recall  f1-score   support\n",
      "\n",
      "           0       0.99      1.00      0.99       262\n",
      "           1       0.99      0.99      0.99       271\n",
      "           2       1.00      0.99      1.00       188\n",
      "           3       1.00      1.00      1.00       119\n",
      "           4       1.00      1.00      1.00        53\n",
      "\n",
      "    accuracy                           0.99       893\n",
      "   macro avg       1.00      1.00      1.00       893\n",
      "weighted avg       0.99      0.99      0.99       893\n",
      "\n"
     ]
    }
   ],
   "source": [
    "Y_over_label = Y_over.replace({'E' : 0, 'D' : 1, 'C' : 2, 'B' : 3, 'A' : 4})\n",
    "\n",
    "model_xgb = XGBClassifier()\n",
    "model_xgb.fit(X_over, Y_over_label)\n",
    "\n",
    "hyper_parameters = {\n",
    "    \"max_depth\" : range(5, 11),\n",
    "    \"subsample\" : [0.5, 1],\n",
    "    \"learning_rate\" : [0.1, 0.2, 0.3]\n",
    "}\n",
    "\n",
    "grid_model = GridSearchCV(estimator = model_xgb, param_grid = hyper_parameters, cv = 5, n_jobs = -1, scoring = 'f1')\n",
    "grid_model.fit(X_over, Y_over_label)\n",
    "\n",
    "best_model = grid_model.best_estimator_\n",
    "\n",
    "Y_train_pred = best_model.predict(X_over)\n",
    "Y_test_pred = best_model.predict(X_test)\n",
    "\n",
    "\n",
    "print(classification_report(Y_over_label, Y_train_pred))\n",
    "print(classification_report(y_test_label, Y_test_pred))"
   ]
  },
  {
   "cell_type": "markdown",
   "id": "c6011880",
   "metadata": {},
   "source": [
    "## XGBClassifier-ADASYN"
   ]
  },
  {
   "cell_type": "code",
   "execution_count": 36,
   "id": "67fc771f",
   "metadata": {},
   "outputs": [
    {
     "name": "stderr",
     "output_type": "stream",
     "text": [
      "C:\\Users\\DMC CONET\\miniconda3\\envs\\tf_gpu\\lib\\site-packages\\sklearn\\model_selection\\_search.py:953: UserWarning: One or more of the test scores are non-finite: [nan nan nan nan nan nan nan nan nan nan nan nan nan nan nan nan nan nan\n",
      " nan nan nan nan nan nan nan nan nan nan nan nan nan nan nan nan nan nan]\n",
      "  warnings.warn(\n"
     ]
    },
    {
     "name": "stdout",
     "output_type": "stream",
     "text": [
      "              precision    recall  f1-score   support\n",
      "\n",
      "           0       1.00      1.00      1.00      1110\n",
      "           1       1.00      1.00      1.00      1105\n",
      "           2       1.00      1.00      1.00      1114\n",
      "           3       1.00      1.00      1.00      1100\n",
      "           4       1.00      1.00      1.00      1104\n",
      "\n",
      "    accuracy                           1.00      5533\n",
      "   macro avg       1.00      1.00      1.00      5533\n",
      "weighted avg       1.00      1.00      1.00      5533\n",
      "\n",
      "              precision    recall  f1-score   support\n",
      "\n",
      "           0       0.99      1.00      0.99       262\n",
      "           1       1.00      0.99      0.99       271\n",
      "           2       1.00      0.99      1.00       188\n",
      "           3       1.00      1.00      1.00       119\n",
      "           4       1.00      1.00      1.00        53\n",
      "\n",
      "    accuracy                           1.00       893\n",
      "   macro avg       1.00      1.00      1.00       893\n",
      "weighted avg       1.00      1.00      1.00       893\n",
      "\n"
     ]
    }
   ],
   "source": [
    "Y_over_label2 = Y_over2.replace({'E' : 0, 'D' : 1, 'C' : 2, 'B' : 3, 'A' : 4})\n",
    "\n",
    "model_xgb = XGBClassifier()\n",
    "model_xgb.fit(X_over2, Y_over_label2)\n",
    "\n",
    "hyper_parameters = {\n",
    "    \"max_depth\" : range(5, 11),\n",
    "    \"subsample\" : [0.5, 1],\n",
    "    \"learning_rate\" : [0.1, 0.2, 0.3]\n",
    "}\n",
    "\n",
    "grid_model = GridSearchCV(estimator = model_xgb, param_grid = hyper_parameters, cv = 5, n_jobs = -1, scoring = 'f1')\n",
    "grid_model.fit(X_over2, Y_over_label2)\n",
    "\n",
    "best_model = grid_model.best_estimator_\n",
    "\n",
    "Y_train_pred = best_model.predict(X_over2)\n",
    "Y_test_pred = best_model.predict(X_test)\n",
    "\n",
    "\n",
    "print(classification_report(Y_over_label2, Y_train_pred))\n",
    "print(classification_report(y_test_label, Y_test_pred))"
   ]
  },
  {
   "cell_type": "markdown",
   "id": "a0ab2c70",
   "metadata": {},
   "source": [
    "## LGBMClassifier-ADASYN-변수선택"
   ]
  },
  {
   "cell_type": "code",
   "execution_count": 37,
   "id": "634348e7",
   "metadata": {},
   "outputs": [],
   "source": [
    "num_list = ['자본금액', '매출금액', '영업이익', '자산총합계금액', \n",
    "            '보증잔액', '예금평잔', '대출평잔']\n",
    "category_list = ['운전자금대출여부', '시설자금대출여부']"
   ]
  },
  {
   "cell_type": "code",
   "execution_count": 38,
   "id": "879a5d1c",
   "metadata": {},
   "outputs": [],
   "source": [
    "X_numeric = df[num_list]\n",
    "X_cat = df[category_list]"
   ]
  },
  {
   "cell_type": "code",
   "execution_count": 39,
   "id": "6108c127",
   "metadata": {},
   "outputs": [
    {
     "name": "stderr",
     "output_type": "stream",
     "text": [
      "C:\\Users\\DMC CONET\\AppData\\Local\\Temp\\ipykernel_24448\\2246251495.py:3: SettingWithCopyWarning: \n",
      "A value is trying to be set on a copy of a slice from a DataFrame.\n",
      "Try using .loc[row_indexer,col_indexer] = value instead\n",
      "\n",
      "See the caveats in the documentation: https://pandas.pydata.org/pandas-docs/stable/user_guide/indexing.html#returning-a-view-versus-a-copy\n",
      "  X_numeric[num_list] = scaler.fit_transform(X_numeric[num_list])\n"
     ]
    }
   ],
   "source": [
    "from sklearn.preprocessing import MinMaxScaler\n",
    "scaler = MinMaxScaler()\n",
    "X_numeric[num_list] = scaler.fit_transform(X_numeric[num_list])"
   ]
  },
  {
   "cell_type": "code",
   "execution_count": 40,
   "id": "5a0f919d",
   "metadata": {},
   "outputs": [
    {
     "name": "stderr",
     "output_type": "stream",
     "text": [
      "C:\\Users\\DMC CONET\\miniconda3\\envs\\tf_gpu\\lib\\site-packages\\sklearn\\utils\\deprecation.py:87: FutureWarning: Function get_feature_names is deprecated; get_feature_names is deprecated in 1.0 and will be removed in 1.2. Please use get_feature_names_out instead.\n",
      "  warnings.warn(msg, category=FutureWarning)\n"
     ]
    }
   ],
   "source": [
    "from sklearn.preprocessing import OneHotEncoder\n",
    "ohe = OneHotEncoder()\n",
    "X_cat_matrix = ohe.fit_transform(X_cat)\n",
    "X_cat_ohe = pd.DataFrame(X_cat_matrix.toarray(), columns = ohe.get_feature_names())"
   ]
  },
  {
   "cell_type": "code",
   "execution_count": 41,
   "id": "321e32d1",
   "metadata": {},
   "outputs": [],
   "source": [
    "X = pd.concat([X_numeric, X_cat_ohe], axis = 1)\n",
    "X = pd.concat([X, df[['종업원수구분명']]], axis = 1)\n",
    "y = df['신용등급']"
   ]
  },
  {
   "cell_type": "code",
   "execution_count": 42,
   "id": "bb00a0f8",
   "metadata": {},
   "outputs": [],
   "source": [
    "X_train, X_test, y_train, y_test = train_test_split(X, y, random_state = 1234)"
   ]
  },
  {
   "cell_type": "code",
   "execution_count": 43,
   "id": "d61270f2",
   "metadata": {},
   "outputs": [],
   "source": [
    "over_sampler = ADASYN()\n",
    "X_over, Y_over = over_sampler.fit_resample(X_train, y_train)"
   ]
  },
  {
   "cell_type": "code",
   "execution_count": 44,
   "id": "240f5e84",
   "metadata": {},
   "outputs": [
    {
     "name": "stderr",
     "output_type": "stream",
     "text": [
      "C:\\Users\\DMC CONET\\miniconda3\\envs\\tf_gpu\\lib\\site-packages\\sklearn\\model_selection\\_search.py:953: UserWarning: One or more of the test scores are non-finite: [nan nan nan ... nan nan nan]\n",
      "  warnings.warn(\n"
     ]
    },
    {
     "name": "stdout",
     "output_type": "stream",
     "text": [
      "              precision    recall  f1-score   support\n",
      "\n",
      "           A       1.00      1.00      1.00      1047\n",
      "           B       1.00      1.00      1.00      1028\n",
      "           C       1.00      1.00      1.00      1058\n",
      "           D       1.00      1.00      1.00      1035\n",
      "           E       1.00      1.00      1.00      1026\n",
      "\n",
      "    accuracy                           1.00      5194\n",
      "   macro avg       1.00      1.00      1.00      5194\n",
      "weighted avg       1.00      1.00      1.00      5194\n",
      "\n",
      "              precision    recall  f1-score   support\n",
      "\n",
      "           A       0.98      1.00      0.99        65\n",
      "           B       1.00      0.99      1.00       145\n",
      "           C       1.00      1.00      1.00       236\n",
      "           D       1.00      1.00      1.00       341\n",
      "           E       1.00      1.00      1.00       329\n",
      "\n",
      "    accuracy                           1.00      1116\n",
      "   macro avg       1.00      1.00      1.00      1116\n",
      "weighted avg       1.00      1.00      1.00      1116\n",
      "\n"
     ]
    }
   ],
   "source": [
    "model_lgbm = LGBMClassifier()\n",
    "model_lgbm.fit(X_over, Y_over)\n",
    "\n",
    "hyper_parameters = {\n",
    "    \"max_depth\" : range(5, 16),\n",
    "    \"num_leaves\" : range(20, 31),\n",
    "    \"min_data_in_leaf\" : range(10, 21)\n",
    "}\n",
    "\n",
    "grid_model = GridSearchCV(estimator = model_lgbm, param_grid = hyper_parameters, cv = 5, n_jobs = -1, scoring = 'f1')\n",
    "grid_model.fit(X_over, Y_over)\n",
    "\n",
    "best_model = grid_model.best_estimator_\n",
    "\n",
    "Y_train_pred = best_model.predict(X_over)\n",
    "Y_test_pred = best_model.predict(X_test)\n",
    "\n",
    "print(classification_report(Y_over, Y_train_pred))\n",
    "print(classification_report(y_test, Y_test_pred))"
   ]
  },
  {
   "cell_type": "markdown",
   "id": "03eeb1ea",
   "metadata": {},
   "source": [
    "## XGBClassifier-ADASYN-변수선택"
   ]
  },
  {
   "cell_type": "code",
   "execution_count": 45,
   "id": "601fe11b",
   "metadata": {},
   "outputs": [],
   "source": [
    "Y_over_label = Y_over.replace({'E' : 0, 'D' : 1, 'C' : 2, 'B' : 3, 'A' : 4})"
   ]
  },
  {
   "cell_type": "code",
   "execution_count": null,
   "id": "9dfe35ab",
   "metadata": {},
   "outputs": [],
   "source": [
    "model_xgb = XGBClassifier()\n",
    "model_xgb.fit(X_over, Y_over_label)\n",
    "\n",
    "hyper_parameters = {\n",
    "    \"max_depth\" : range(5, 16),\n",
    "    \"subsample\" : [0.5, 1],\n",
    "    \"learning_rate\" : [0.1, 0.2, 0.3],\n",
    "    \"gamma\" : [0, 1, 3, 5]\n",
    "}\n",
    "\n",
    "grid_model = GridSearchCV(estimator = model_xgb, param_grid = hyper_parameters, cv = 5, n_jobs = -1, scoring = 'f1')\n",
    "grid_model.fit(X_over, Y_over_label)\n",
    "\n",
    "best_model = grid_model.best_estimator_\n",
    "\n",
    "Y_train_pred = best_model.predict(X_over)\n",
    "Y_test_pred = best_model.predict(X_test)\n",
    "\n",
    "\n",
    "print(classification_report(Y_over_label, Y_train_pred))\n",
    "print(classification_report(y_test_label, Y_test_pred))"
   ]
  }
 ],
 "metadata": {
  "kernelspec": {
   "display_name": "python3_9_15",
   "language": "python",
   "name": "tf_gpu"
  },
  "language_info": {
   "codemirror_mode": {
    "name": "ipython",
    "version": 3
   },
   "file_extension": ".py",
   "mimetype": "text/x-python",
   "name": "python",
   "nbconvert_exporter": "python",
   "pygments_lexer": "ipython3",
   "version": "3.9.15"
  }
 },
 "nbformat": 4,
 "nbformat_minor": 5
}
