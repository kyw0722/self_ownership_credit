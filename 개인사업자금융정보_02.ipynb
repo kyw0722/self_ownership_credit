{
 "cells": [
  {
   "cell_type": "markdown",
   "id": "a00902f5",
   "metadata": {},
   "source": [
    "# 공공데이터포털에서 API를 통해 개인사업자보증잔액정보를 가져옴"
   ]
  },
  {
   "cell_type": "code",
   "execution_count": 1,
   "id": "87a1f5ed",
   "metadata": {},
   "outputs": [],
   "source": [
    "import pandas as pd\n",
    "from pandas import json_normalize # json 형태의 데이터를 DataFrame으로 변환해주는 패키지\n",
    "import requests # API 정보를 가져오기 위한 패키지\n",
    "import json # json 형태의 데이터를 읽기 위한 패키지"
   ]
  },
  {
   "cell_type": "code",
   "execution_count": 2,
   "id": "ffef03a3",
   "metadata": {},
   "outputs": [
    {
     "name": "stderr",
     "output_type": "stream",
     "text": [
      "C:\\Users\\DMC CONET\\miniconda3\\envs\\tf_gpu\\lib\\site-packages\\urllib3\\connectionpool.py:1045: InsecureRequestWarning: Unverified HTTPS request is being made to host 'apis.data.go.kr'. Adding certificate verification is strongly advised. See: https://urllib3.readthedocs.io/en/1.26.x/advanced-usage.html#ssl-warnings\n",
      "  warnings.warn(\n"
     ]
    },
    {
     "data": {
      "text/plain": [
       "Index(['basYm', 'rprSexNm', 'rprAggrNm', 'estbYr', 'bizAreaNm', 'bizBzcCd',\n",
       "       'bizBzcCdNm', 'empeCntNm', 'grnBal', 'wrkfndLoanYn', 'fctfndLoanYn'],\n",
       "      dtype='object')"
      ]
     },
     "execution_count": 2,
     "metadata": {},
     "output_type": "execute_result"
    }
   ],
   "source": [
    "# 공공데이터포털에 API 형태의 데이터를 요청(requests.get())\n",
    "requestData = requests.get('https://apis.data.go.kr/1160100/service/GetSBBankingInfoService/getGrnBalInfo?serviceKey=DTSWD835IYOcHhgfdt0U49Lf3KjL5uUDHTfRQTCCEpwlQDihiHDdwBgjhkj7PrbBPeFweBXMcO9cK4IDvsQPYA%3D%3D&pageNo=1&numOfRows=5000&resultType=json', verify = False)\n",
    "# API로 받아온 데이터의 내용을 추출해 contents에 저장\n",
    "contents = requestData.text\n",
    "# json 패키지의 loads()함수를 이용해 파이썬이 읽을 수 있는 자료형으로 만듦\n",
    "data = json.loads(contents)\n",
    "# 개인사업자재무정보.ipynb 파일 참조\n",
    "stat = data['response']['body']['items']['item']\n",
    "# json_normalize()함수를 통해 DataFrame으로 변환\n",
    "df = json_normalize(stat)\n",
    "df.columns"
   ]
  },
  {
   "cell_type": "code",
   "execution_count": 4,
   "id": "4e723304",
   "metadata": {},
   "outputs": [],
   "source": [
    "# rename()함수를 통해 영어 약어로 되어 있던 column명들을 원하는 이름으로 바꿔줌\n",
    "# inplace = True 옵션을 설정하면 원래 DataFrame 내의 값을 바꿈\n",
    "# inplace = False(default)일 때에는 새로운 객체를 통해 저장해줘야 함(ex. new_df = df.rename())\n",
    "df.rename(columns = {'basYm' : '기준년월', 'rprSexNm' : '대표자성별명', 'rprAggrNm' : '대표자연령대명', 'estbYr' : '설립년도', 'bizAreaNm' : '사업지역명', 'bizBzcCd' : '사업업종코드',\n",
    "       'bizBzcCdNm' : '사업업종명', 'empeCntNm' : '종업원수구분명', 'grnBal' : '보증잔액', 'wrkfndLoanYn' : '운전자금대출여부', 'fctfndLoanYn' : '시설자금대출여부'}, inplace = True)"
   ]
  },
  {
   "cell_type": "code",
   "execution_count": 5,
   "id": "aa1a94d7",
   "metadata": {},
   "outputs": [
    {
     "name": "stdout",
     "output_type": "stream",
     "text": [
      "<class 'pandas.core.frame.DataFrame'>\n",
      "RangeIndex: 5000 entries, 0 to 4999\n",
      "Data columns (total 11 columns):\n",
      " #   Column    Non-Null Count  Dtype \n",
      "---  ------    --------------  ----- \n",
      " 0   기준년월      5000 non-null   object\n",
      " 1   대표자성별명    5000 non-null   object\n",
      " 2   대표자연령대명   5000 non-null   object\n",
      " 3   설립년도      5000 non-null   object\n",
      " 4   사업지역명     5000 non-null   object\n",
      " 5   사업업종코드    5000 non-null   object\n",
      " 6   사업업종명     5000 non-null   object\n",
      " 7   종업원수구분명   5000 non-null   object\n",
      " 8   보증잔액      5000 non-null   object\n",
      " 9   운전자금대출여부  5000 non-null   object\n",
      " 10  시설자금대출여부  5000 non-null   object\n",
      "dtypes: object(11)\n",
      "memory usage: 429.8+ KB\n"
     ]
    }
   ],
   "source": [
    "# column명들이 모두 바뀌었음을 확인\n",
    "df.info()"
   ]
  },
  {
   "cell_type": "markdown",
   "id": "c2b12c4a",
   "metadata": {},
   "source": [
    "# 다른 페이지의 정보를 가져오기 위한 코드"
   ]
  },
  {
   "cell_type": "code",
   "execution_count": 6,
   "id": "5c9e3bc9",
   "metadata": {},
   "outputs": [
    {
     "name": "stderr",
     "output_type": "stream",
     "text": [
      "C:\\Users\\DMC CONET\\miniconda3\\envs\\tf_gpu\\lib\\site-packages\\urllib3\\connectionpool.py:1045: InsecureRequestWarning: Unverified HTTPS request is being made to host 'apis.data.go.kr'. Adding certificate verification is strongly advised. See: https://urllib3.readthedocs.io/en/1.26.x/advanced-usage.html#ssl-warnings\n",
      "  warnings.warn(\n"
     ]
    },
    {
     "data": {
      "text/plain": [
       "Index(['basYm', 'rprSexNm', 'rprAggrNm', 'estbYr', 'bizAreaNm', 'bizBzcCd',\n",
       "       'bizBzcCdNm', 'empeCntNm', 'grnBal', 'wrkfndLoanYn', 'fctfndLoanYn'],\n",
       "      dtype='object')"
      ]
     },
     "execution_count": 6,
     "metadata": {},
     "output_type": "execute_result"
    }
   ],
   "source": [
    "# requests.get() 내의 주소 중 pageNo 값만 변경\n",
    "requestData = requests.get('https://apis.data.go.kr/1160100/service/GetSBBankingInfoService/getGrnBalInfo?serviceKey=DTSWD835IYOcHhgfdt0U49Lf3KjL5uUDHTfRQTCCEpwlQDihiHDdwBgjhkj7PrbBPeFweBXMcO9cK4IDvsQPYA%3D%3D&pageNo=10&numOfRows=5000&resultType=json', verify = False)\n",
    "\n",
    "contents = requestData.text\n",
    "\n",
    "data = json.loads(contents)\n",
    "\n",
    "stat = data['response']['body']['items']['item']\n",
    "\n",
    "df2 = json_normalize(stat)\n",
    "df2.columns"
   ]
  },
  {
   "cell_type": "code",
   "execution_count": 7,
   "id": "33ae4621",
   "metadata": {},
   "outputs": [],
   "source": [
    "df2.rename(columns = {'basYm' : '기준년월', 'rprSexNm' : '대표자성별명', 'rprAggrNm' : '대표자연령대명', 'estbYr' : '설립년도', 'bizAreaNm' : '사업지역명', 'bizBzcCd' : '사업업종코드',\n",
    "       'bizBzcCdNm' : '사업업종명', 'empeCntNm' : '종업원수구분명', 'grnBal' : '보증잔액', 'wrkfndLoanYn' : '운전자금대출여부', 'fctfndLoanYn' : '시설자금대출여부'}, inplace = True)"
   ]
  },
  {
   "cell_type": "markdown",
   "id": "80406886",
   "metadata": {},
   "source": [
    "# 두 페이지에서 가져온 데이터를 합쳐 csv파일로 저장"
   ]
  },
  {
   "cell_type": "code",
   "execution_count": 8,
   "id": "422e7bbe",
   "metadata": {},
   "outputs": [],
   "source": [
    "# 두 개의 DataFrame의 column 형태가 같으므로 pd.concat()함수를 통해 바로 합침\n",
    "df3 = pd.concat([df, df2])"
   ]
  },
  {
   "cell_type": "code",
   "execution_count": 9,
   "id": "79743eb1",
   "metadata": {},
   "outputs": [
    {
     "name": "stdout",
     "output_type": "stream",
     "text": [
      "<class 'pandas.core.frame.DataFrame'>\n",
      "Int64Index: 10000 entries, 0 to 4999\n",
      "Data columns (total 11 columns):\n",
      " #   Column    Non-Null Count  Dtype \n",
      "---  ------    --------------  ----- \n",
      " 0   기준년월      10000 non-null  object\n",
      " 1   대표자성별명    10000 non-null  object\n",
      " 2   대표자연령대명   10000 non-null  object\n",
      " 3   설립년도      10000 non-null  object\n",
      " 4   사업지역명     10000 non-null  object\n",
      " 5   사업업종코드    10000 non-null  object\n",
      " 6   사업업종명     10000 non-null  object\n",
      " 7   종업원수구분명   10000 non-null  object\n",
      " 8   보증잔액      10000 non-null  object\n",
      " 9   운전자금대출여부  10000 non-null  object\n",
      " 10  시설자금대출여부  10000 non-null  object\n",
      "dtypes: object(11)\n",
      "memory usage: 937.5+ KB\n"
     ]
    }
   ],
   "source": [
    "df3.info()"
   ]
  },
  {
   "cell_type": "code",
   "execution_count": 10,
   "id": "101c3d6b",
   "metadata": {},
   "outputs": [],
   "source": [
    "# to_csv 함수를 통해 csv파일로 저장\n",
    "# sep = ',' -> csv(comma seperated values)이므로 구분자는 ','\n",
    "# na_rep = 'NaN' -> DataFrame의 결측값을 어떻게 저장할지 지정해주는 옵션\n",
    "# encoding = 'utf-8-sig' -> csv파일을 저장할 때 한글이 있다면 'utf-8-sig'로 지정해줘야 함\n",
    "df3.to_csv('C:\\\\Users\\\\DMC CONET\\\\Documents\\\\python\\\\project1\\\\data\\\\개인사업자보증잔액정보.csv', sep = ',', na_rep = 'NaN', encoding = 'utf-8-sig')"
   ]
  },
  {
   "cell_type": "markdown",
   "id": "f67ce23a",
   "metadata": {},
   "source": [
    "# 공공데이터포털에서 API를 통해 개인사업자예금대출정보를 가져옴\n",
    "\n",
    "\n",
    "#### 내용은 같음"
   ]
  },
  {
   "cell_type": "code",
   "execution_count": 15,
   "id": "a3b80e23",
   "metadata": {},
   "outputs": [
    {
     "name": "stderr",
     "output_type": "stream",
     "text": [
      "C:\\Users\\DMC CONET\\miniconda3\\envs\\tf_gpu\\lib\\site-packages\\urllib3\\connectionpool.py:1045: InsecureRequestWarning: Unverified HTTPS request is being made to host 'apis.data.go.kr'. Adding certificate verification is strongly advised. See: https://urllib3.readthedocs.io/en/1.26.x/advanced-usage.html#ssl-warnings\n",
      "  warnings.warn(\n"
     ]
    },
    {
     "data": {
      "text/plain": [
       "Index(['basYm', 'rprSexNm', 'rprAggrNm', 'estbYr', 'bizAreaNm', 'bizBzcCd',\n",
       "       'bizBzcCdNm', 'empeCntNm', 'depAbl', 'loanAbl', 'wrkfndLoanYn',\n",
       "       'fctfndLoanYn'],\n",
       "      dtype='object')"
      ]
     },
     "execution_count": 15,
     "metadata": {},
     "output_type": "execute_result"
    }
   ],
   "source": [
    "requestData = requests.get('https://apis.data.go.kr/1160100/service/GetSBBankingInfoService/getDpstLoanInfo?serviceKey=DTSWD835IYOcHhgfdt0U49Lf3KjL5uUDHTfRQTCCEpwlQDihiHDdwBgjhkj7PrbBPeFweBXMcO9cK4IDvsQPYA%3D%3D&pageNo=1&numOfRows=5000&resultType=json', verify = False)\n",
    "\n",
    "contents = requestData.text\n",
    "\n",
    "data = json.loads(contents)\n",
    "\n",
    "stat = data['response']['body']['items']['item']\n",
    "\n",
    "df = json_normalize(stat)\n",
    "df.columns"
   ]
  },
  {
   "cell_type": "code",
   "execution_count": 16,
   "id": "14d75c7f",
   "metadata": {},
   "outputs": [],
   "source": [
    "df.rename(columns = {'basYm' : '기준년월', 'rprSexNm' : '대표자성별명', 'rprAggrNm' : '대표자연령대명', 'estbYr' : '설립년도', 'bizAreaNm' : '사업지역명', 'bizBzcCd' : '사업업종코드',\n",
    "       'bizBzcCdNm' : '사업업종명', 'empeCntNm' : '종업원수구분명', 'depAbl' : '예금평잔', 'loanAbl' : '대출평잔', 'wrkfndLoanYn' : '운전자금대출여부',\n",
    "       'fctfndLoanYn' : '시설자금대출여부'}, inplace = True)"
   ]
  },
  {
   "cell_type": "code",
   "execution_count": 17,
   "id": "3b4c2e36",
   "metadata": {},
   "outputs": [
    {
     "name": "stdout",
     "output_type": "stream",
     "text": [
      "<class 'pandas.core.frame.DataFrame'>\n",
      "RangeIndex: 5000 entries, 0 to 4999\n",
      "Data columns (total 12 columns):\n",
      " #   Column    Non-Null Count  Dtype \n",
      "---  ------    --------------  ----- \n",
      " 0   기준년월      5000 non-null   object\n",
      " 1   대표자성별명    5000 non-null   object\n",
      " 2   대표자연령대명   5000 non-null   object\n",
      " 3   설립년도      5000 non-null   object\n",
      " 4   사업지역명     5000 non-null   object\n",
      " 5   사업업종코드    5000 non-null   object\n",
      " 6   사업업종명     5000 non-null   object\n",
      " 7   종업원수구분명   5000 non-null   object\n",
      " 8   예금평잔      5000 non-null   object\n",
      " 9   대출평잔      5000 non-null   object\n",
      " 10  운전자금대출여부  5000 non-null   object\n",
      " 11  시설자금대출여부  5000 non-null   object\n",
      "dtypes: object(12)\n",
      "memory usage: 468.9+ KB\n"
     ]
    }
   ],
   "source": [
    "df.info()"
   ]
  },
  {
   "cell_type": "code",
   "execution_count": 18,
   "id": "ecc99c03",
   "metadata": {},
   "outputs": [
    {
     "name": "stderr",
     "output_type": "stream",
     "text": [
      "C:\\Users\\DMC CONET\\miniconda3\\envs\\tf_gpu\\lib\\site-packages\\urllib3\\connectionpool.py:1045: InsecureRequestWarning: Unverified HTTPS request is being made to host 'apis.data.go.kr'. Adding certificate verification is strongly advised. See: https://urllib3.readthedocs.io/en/1.26.x/advanced-usage.html#ssl-warnings\n",
      "  warnings.warn(\n"
     ]
    },
    {
     "data": {
      "text/plain": [
       "Index(['basYm', 'rprSexNm', 'rprAggrNm', 'estbYr', 'bizAreaNm', 'bizBzcCd',\n",
       "       'bizBzcCdNm', 'empeCntNm', 'depAbl', 'loanAbl', 'wrkfndLoanYn',\n",
       "       'fctfndLoanYn'],\n",
       "      dtype='object')"
      ]
     },
     "execution_count": 18,
     "metadata": {},
     "output_type": "execute_result"
    }
   ],
   "source": [
    "requestData = requests.get('https://apis.data.go.kr/1160100/service/GetSBBankingInfoService/getDpstLoanInfo?serviceKey=DTSWD835IYOcHhgfdt0U49Lf3KjL5uUDHTfRQTCCEpwlQDihiHDdwBgjhkj7PrbBPeFweBXMcO9cK4IDvsQPYA%3D%3D&pageNo=10&numOfRows=5000&resultType=json', verify = False)\n",
    "\n",
    "contents = requestData.text\n",
    "\n",
    "data = json.loads(contents)\n",
    "\n",
    "stat = data['response']['body']['items']['item']\n",
    "\n",
    "df2 = json_normalize(stat)\n",
    "df2.columns"
   ]
  },
  {
   "cell_type": "code",
   "execution_count": 19,
   "id": "941c6739",
   "metadata": {},
   "outputs": [],
   "source": [
    "df2.rename(columns = {'basYm' : '기준년월', 'rprSexNm' : '대표자성별명', 'rprAggrNm' : '대표자연령대명', 'estbYr' : '설립년도', 'bizAreaNm' : '사업지역명', 'bizBzcCd' : '사업업종코드',\n",
    "       'bizBzcCdNm' : '사업업종명', 'empeCntNm' : '종업원수구분명', 'depAbl' : '예금평잔', 'loanAbl' : '대출평잔', 'wrkfndLoanYn' : '운전자금대출여부',\n",
    "       'fctfndLoanYn' : '시설자금대출여부'}, inplace = True)"
   ]
  },
  {
   "cell_type": "code",
   "execution_count": 20,
   "id": "c39362f8",
   "metadata": {},
   "outputs": [
    {
     "name": "stdout",
     "output_type": "stream",
     "text": [
      "<class 'pandas.core.frame.DataFrame'>\n",
      "RangeIndex: 5000 entries, 0 to 4999\n",
      "Data columns (total 12 columns):\n",
      " #   Column    Non-Null Count  Dtype \n",
      "---  ------    --------------  ----- \n",
      " 0   기준년월      5000 non-null   object\n",
      " 1   대표자성별명    5000 non-null   object\n",
      " 2   대표자연령대명   5000 non-null   object\n",
      " 3   설립년도      5000 non-null   object\n",
      " 4   사업지역명     5000 non-null   object\n",
      " 5   사업업종코드    5000 non-null   object\n",
      " 6   사업업종명     5000 non-null   object\n",
      " 7   종업원수구분명   5000 non-null   object\n",
      " 8   예금평잔      5000 non-null   object\n",
      " 9   대출평잔      5000 non-null   object\n",
      " 10  운전자금대출여부  5000 non-null   object\n",
      " 11  시설자금대출여부  5000 non-null   object\n",
      "dtypes: object(12)\n",
      "memory usage: 468.9+ KB\n"
     ]
    }
   ],
   "source": [
    "df2.info()"
   ]
  },
  {
   "cell_type": "code",
   "execution_count": 21,
   "id": "fb91e0f5",
   "metadata": {},
   "outputs": [
    {
     "name": "stdout",
     "output_type": "stream",
     "text": [
      "<class 'pandas.core.frame.DataFrame'>\n",
      "Int64Index: 10000 entries, 0 to 4999\n",
      "Data columns (total 12 columns):\n",
      " #   Column    Non-Null Count  Dtype \n",
      "---  ------    --------------  ----- \n",
      " 0   기준년월      10000 non-null  object\n",
      " 1   대표자성별명    10000 non-null  object\n",
      " 2   대표자연령대명   10000 non-null  object\n",
      " 3   설립년도      10000 non-null  object\n",
      " 4   사업지역명     10000 non-null  object\n",
      " 5   사업업종코드    10000 non-null  object\n",
      " 6   사업업종명     10000 non-null  object\n",
      " 7   종업원수구분명   10000 non-null  object\n",
      " 8   예금평잔      10000 non-null  object\n",
      " 9   대출평잔      10000 non-null  object\n",
      " 10  운전자금대출여부  10000 non-null  object\n",
      " 11  시설자금대출여부  10000 non-null  object\n",
      "dtypes: object(12)\n",
      "memory usage: 1015.6+ KB\n"
     ]
    }
   ],
   "source": [
    "df3 = pd.concat([df, df2])\n",
    "df3.info()"
   ]
  },
  {
   "cell_type": "code",
   "execution_count": 22,
   "id": "d65bbf75",
   "metadata": {},
   "outputs": [],
   "source": [
    "df3.to_csv('C:\\\\Users\\\\DMC CONET\\\\Documents\\\\python\\\\project1\\\\data\\\\개인사업자예금대출정보.csv', sep = ',', na_rep = 'NaN', encoding = 'utf-8-sig')"
   ]
  }
 ],
 "metadata": {
  "kernelspec": {
   "display_name": "python3_9_15",
   "language": "python",
   "name": "tf_gpu"
  },
  "language_info": {
   "codemirror_mode": {
    "name": "ipython",
    "version": 3
   },
   "file_extension": ".py",
   "mimetype": "text/x-python",
   "name": "python",
   "nbconvert_exporter": "python",
   "pygments_lexer": "ipython3",
   "version": "3.9.15"
  }
 },
 "nbformat": 4,
 "nbformat_minor": 5
}
